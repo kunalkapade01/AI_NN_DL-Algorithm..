{
 "cells": [
  {
   "cell_type": "code",
   "execution_count": 2,
   "id": "6eb15918",
   "metadata": {},
   "outputs": [
    {
     "name": "stdout",
     "output_type": "stream",
     "text": [
      "Collecting prophet\n",
      "  Obtaining dependency information for prophet from https://files.pythonhosted.org/packages/24/2b/834e9a347f2f0161e32a3c6125b8a1ebdf6ac33199a0ed3a0bdf1f0c296f/prophet-1.1.5-py3-none-win_amd64.whl.metadata\n",
      "  Downloading prophet-1.1.5-py3-none-win_amd64.whl.metadata (3.6 kB)\n",
      "Collecting cmdstanpy>=1.0.4 (from prophet)\n",
      "  Obtaining dependency information for cmdstanpy>=1.0.4 from https://files.pythonhosted.org/packages/5b/a0/a0f4a556dff2189bc08d0f69f0d4aac1b7e4e0cedc9a70b30a134f73d100/cmdstanpy-1.2.1-py3-none-any.whl.metadata\n",
      "  Downloading cmdstanpy-1.2.1-py3-none-any.whl.metadata (3.9 kB)\n",
      "Requirement already satisfied: numpy>=1.15.4 in c:\\users\\kunal\\anaconda3\\lib\\site-packages (from prophet) (1.24.3)\n",
      "Requirement already satisfied: matplotlib>=2.0.0 in c:\\users\\kunal\\anaconda3\\lib\\site-packages (from prophet) (3.7.2)\n",
      "Requirement already satisfied: pandas>=1.0.4 in c:\\users\\kunal\\anaconda3\\lib\\site-packages (from prophet) (2.0.3)\n",
      "Collecting holidays>=0.25 (from prophet)\n",
      "  Obtaining dependency information for holidays>=0.25 from https://files.pythonhosted.org/packages/7b/38/5792996cab885c4510540e3dd967a57ba3261edfbabc2053061696952041/holidays-0.43-py3-none-any.whl.metadata\n",
      "  Downloading holidays-0.43-py3-none-any.whl.metadata (21 kB)\n",
      "Requirement already satisfied: tqdm>=4.36.1 in c:\\users\\kunal\\anaconda3\\lib\\site-packages (from prophet) (4.65.0)\n",
      "Collecting importlib-resources (from prophet)\n",
      "  Obtaining dependency information for importlib-resources from https://files.pythonhosted.org/packages/93/e8/facde510585869b5ec694e8e0363ffe4eba067cb357a8398a55f6a1f8023/importlib_resources-6.1.1-py3-none-any.whl.metadata\n",
      "  Downloading importlib_resources-6.1.1-py3-none-any.whl.metadata (4.1 kB)\n",
      "Collecting stanio~=0.3.0 (from cmdstanpy>=1.0.4->prophet)\n",
      "  Obtaining dependency information for stanio~=0.3.0 from https://files.pythonhosted.org/packages/26/01/e2579afa3ad1eade8b54bf5b9e45790d219681b1f8f97edbd2f18c4e1a7d/stanio-0.3.0-py3-none-any.whl.metadata\n",
      "  Downloading stanio-0.3.0-py3-none-any.whl.metadata (963 bytes)\n",
      "Requirement already satisfied: python-dateutil in c:\\users\\kunal\\anaconda3\\lib\\site-packages (from holidays>=0.25->prophet) (2.8.2)\n",
      "Requirement already satisfied: contourpy>=1.0.1 in c:\\users\\kunal\\anaconda3\\lib\\site-packages (from matplotlib>=2.0.0->prophet) (1.0.5)\n",
      "Requirement already satisfied: cycler>=0.10 in c:\\users\\kunal\\anaconda3\\lib\\site-packages (from matplotlib>=2.0.0->prophet) (0.11.0)\n",
      "Requirement already satisfied: fonttools>=4.22.0 in c:\\users\\kunal\\anaconda3\\lib\\site-packages (from matplotlib>=2.0.0->prophet) (4.25.0)\n",
      "Requirement already satisfied: kiwisolver>=1.0.1 in c:\\users\\kunal\\anaconda3\\lib\\site-packages (from matplotlib>=2.0.0->prophet) (1.4.4)\n",
      "Requirement already satisfied: packaging>=20.0 in c:\\users\\kunal\\anaconda3\\lib\\site-packages (from matplotlib>=2.0.0->prophet) (23.1)\n",
      "Requirement already satisfied: pillow>=6.2.0 in c:\\users\\kunal\\anaconda3\\lib\\site-packages (from matplotlib>=2.0.0->prophet) (9.4.0)\n",
      "Requirement already satisfied: pyparsing<3.1,>=2.3.1 in c:\\users\\kunal\\anaconda3\\lib\\site-packages (from matplotlib>=2.0.0->prophet) (3.0.9)\n",
      "Requirement already satisfied: pytz>=2020.1 in c:\\users\\kunal\\anaconda3\\lib\\site-packages (from pandas>=1.0.4->prophet) (2023.3.post1)\n",
      "Requirement already satisfied: tzdata>=2022.1 in c:\\users\\kunal\\anaconda3\\lib\\site-packages (from pandas>=1.0.4->prophet) (2023.3)\n",
      "Requirement already satisfied: colorama in c:\\users\\kunal\\anaconda3\\lib\\site-packages (from tqdm>=4.36.1->prophet) (0.4.6)\n",
      "Requirement already satisfied: six>=1.5 in c:\\users\\kunal\\anaconda3\\lib\\site-packages (from python-dateutil->holidays>=0.25->prophet) (1.16.0)\n",
      "Downloading prophet-1.1.5-py3-none-win_amd64.whl (13.3 MB)\n",
      "   ---------------------------------------- 0.0/13.3 MB ? eta -:--:--\n",
      "    --------------------------------------- 0.2/13.3 MB 6.9 MB/s eta 0:00:02\n",
      "   -- ------------------------------------- 0.7/13.3 MB 10.9 MB/s eta 0:00:02\n",
      "   --- ------------------------------------ 1.2/13.3 MB 11.0 MB/s eta 0:00:02\n",
      "   -------- ------------------------------- 2.7/13.3 MB 17.4 MB/s eta 0:00:01\n",
      "   ----------- ---------------------------- 3.7/13.3 MB 18.1 MB/s eta 0:00:01\n",
      "   -------------- ------------------------- 4.7/13.3 MB 17.6 MB/s eta 0:00:01\n",
      "   ---------------- ----------------------- 5.5/13.3 MB 18.6 MB/s eta 0:00:01\n",
      "   ------------------ --------------------- 6.2/13.3 MB 18.9 MB/s eta 0:00:01\n",
      "   -------------------- ------------------- 6.7/13.3 MB 17.1 MB/s eta 0:00:01\n",
      "   --------------------- ------------------ 7.1/13.3 MB 16.7 MB/s eta 0:00:01\n",
      "   ---------------------- ----------------- 7.5/13.3 MB 16.6 MB/s eta 0:00:01\n",
      "   ------------------------ --------------- 8.1/13.3 MB 16.1 MB/s eta 0:00:01\n",
      "   -------------------------- ------------- 8.8/13.3 MB 16.5 MB/s eta 0:00:01\n",
      "   ----------------------------- ---------- 9.7/13.3 MB 16.7 MB/s eta 0:00:01\n",
      "   ------------------------------- -------- 10.6/13.3 MB 17.7 MB/s eta 0:00:01\n",
      "   ---------------------------------- ----- 11.3/13.3 MB 18.2 MB/s eta 0:00:01\n",
      "   ------------------------------------ --- 12.1/13.3 MB 17.2 MB/s eta 0:00:01\n",
      "   -------------------------------------- - 12.7/13.3 MB 17.7 MB/s eta 0:00:01\n",
      "   ---------------------------------------  13.3/13.3 MB 16.8 MB/s eta 0:00:01\n",
      "   ---------------------------------------  13.3/13.3 MB 16.8 MB/s eta 0:00:01\n",
      "   ---------------------------------------- 13.3/13.3 MB 14.9 MB/s eta 0:00:00\n",
      "Downloading cmdstanpy-1.2.1-py3-none-any.whl (93 kB)\n",
      "   ---------------------------------------- 0.0/93.7 kB ? eta -:--:--\n",
      "   ---------------------------------------- 93.7/93.7 kB 5.6 MB/s eta 0:00:00\n",
      "Downloading holidays-0.43-py3-none-any.whl (920 kB)\n",
      "   ---------------------------------------- 0.0/920.2 kB ? eta -:--:--\n",
      "   --------------------------------------  911.4/920.2 kB 28.2 MB/s eta 0:00:01\n",
      "   --------------------------------------- 920.2/920.2 kB 19.4 MB/s eta 0:00:00\n",
      "Downloading importlib_resources-6.1.1-py3-none-any.whl (33 kB)\n",
      "Downloading stanio-0.3.0-py3-none-any.whl (6.2 kB)\n",
      "Installing collected packages: stanio, importlib-resources, holidays, cmdstanpy, prophet\n",
      "Successfully installed cmdstanpy-1.2.1 holidays-0.43 importlib-resources-6.1.1 prophet-1.1.5 stanio-0.3.0\n",
      "Note: you may need to restart the kernel to use updated packages.\n"
     ]
    }
   ],
   "source": [
    "pip install prophet"
   ]
  },
  {
   "cell_type": "code",
   "execution_count": 3,
   "id": "6ddb1e33",
   "metadata": {},
   "outputs": [
    {
     "name": "stdout",
     "output_type": "stream",
     "text": [
      "Requirement already satisfied: plotly in c:\\users\\kunal\\anaconda3\\lib\\site-packages (5.9.0)Note: you may need to restart the kernel to use updated packages.\n",
      "\n",
      "Requirement already satisfied: tenacity>=6.2.0 in c:\\users\\kunal\\anaconda3\\lib\\site-packages (from plotly) (8.2.2)\n"
     ]
    }
   ],
   "source": [
    "pip install plotly"
   ]
  },
  {
   "cell_type": "code",
   "execution_count": null,
   "id": "45b7735d",
   "metadata": {},
   "outputs": [],
   "source": []
  }
 ],
 "metadata": {
  "kernelspec": {
   "display_name": "Python 3 (ipykernel)",
   "language": "python",
   "name": "python3"
  },
  "language_info": {
   "codemirror_mode": {
    "name": "ipython",
    "version": 3
   },
   "file_extension": ".py",
   "mimetype": "text/x-python",
   "name": "python",
   "nbconvert_exporter": "python",
   "pygments_lexer": "ipython3",
   "version": "3.11.5"
  }
 },
 "nbformat": 4,
 "nbformat_minor": 5
}
