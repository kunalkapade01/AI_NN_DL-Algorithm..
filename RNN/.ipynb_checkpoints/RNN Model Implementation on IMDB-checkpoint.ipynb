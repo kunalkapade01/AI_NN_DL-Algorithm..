{
 "cells": [
  {
   "cell_type": "markdown",
   "id": "a034f81d",
   "metadata": {},
   "source": [
    "# 𝐑𝐍𝐍 𝐌𝐨𝐝𝐞𝐥 :"
   ]
  },
  {
   "cell_type": "code",
   "execution_count": 1,
   "id": "5ab7c449",
   "metadata": {},
   "outputs": [],
   "source": [
    "# Import Necessary library :\n",
    "import numpy as np\n",
    "import tensorflow as tf\n",
    "from tensorflow.keras.preprocessing import sequence\n",
    "from tensorflow.keras.layers import Embedding, SimpleRNN, Dense\n",
    "from tensorflow.keras.models import Sequential\n",
    "from tensorflow.keras.datasets import imdb"
   ]
  },
  {
   "cell_type": "code",
   "execution_count": 2,
   "id": "3960627a",
   "metadata": {},
   "outputs": [],
   "source": [
    "# Load the IMDB datasets :\n",
    "(x_train, y_train), (x_test, y_test) = imdb.load_data(num_words=10000)"
   ]
  },
  {
   "cell_type": "code",
   "execution_count": 3,
   "id": "6f20c45c",
   "metadata": {},
   "outputs": [],
   "source": [
    "features = 10000     # Number of features\n",
    "length = 500         #Max of lenght of sequence\n",
    "batch_size = 32      # BAtch size for training"
   ]
  },
  {
   "cell_type": "code",
   "execution_count": 4,
   "id": "77325f10",
   "metadata": {},
   "outputs": [],
   "source": [
    "# Pad_sequence: Adding the zero (Input size)\n",
    "x_train = sequence.pad_sequences(x_train, maxlen=length)\n",
    "x_test = sequence.pad_sequences(x_test, maxlen=length)"
   ]
  },
  {
   "cell_type": "code",
   "execution_count": 5,
   "id": "3785ccbb",
   "metadata": {
    "scrolled": true
   },
   "outputs": [],
   "source": [
    "# Define the RNN model :\n",
    "model = Sequential([\n",
    "    Embedding(features, 32),         #To convert word indices to dense vector of size 32b\n",
    "    SimpleRNN(32),                   #RNN layer with 32 units \n",
    "    Dense(1, activation=\"sigmoid\")   #output layer with activation function.\n",
    "])"
   ]
  },
  {
   "cell_type": "code",
   "execution_count": 6,
   "id": "704a913e",
   "metadata": {},
   "outputs": [],
   "source": [
    "# Compile the model :\n",
    "model.compile(optimizer=\"adam\", loss=\"binary_crossentropy\", metrics=[\"accuracy\"])"
   ]
  },
  {
   "cell_type": "code",
   "execution_count": null,
   "id": "2efa2ed7",
   "metadata": {},
   "outputs": [],
   "source": [
    "# Train the model :\n",
    "model.fit(x_train, y_train, batch_size=batch_size,\n",
    "         epochs=10, validation_data=(x_test, y_test))"
   ]
  },
  {
   "cell_type": "code",
   "execution_count": null,
   "id": "c86b0542",
   "metadata": {},
   "outputs": [],
   "source": [
    "# Predict onthe test set :\n",
    "y_pred = (model.predict(x_test) > 0.5).astype(\"int32\")"
   ]
  },
  {
   "cell_type": "code",
   "execution_count": null,
   "id": "f3011aa2",
   "metadata": {},
   "outputs": [],
   "source": [
    "# calculate and print accuracy :\n",
    "accuracy = accuracy_score(y_test, y_pred)\n",
    "print(f\"𝐀𝐜𝐜𝐮𝐫𝐚𝐜𝐲: {accuracy:.4f}\")"
   ]
  },
  {
   "cell_type": "code",
   "execution_count": null,
   "id": "d3c98221",
   "metadata": {},
   "outputs": [],
   "source": [
    "# compute and print the confusion matrix :\n",
    "conf_matrix = confusion_matrix(y_test, y_pred)\n",
    "print(\"𝐂𝐨𝐧𝐟𝐮𝐬𝐢𝐨𝐧 𝐌𝐚𝐭𝐫𝐢𝐱:\")\n",
    "print(conf_matrix)"
   ]
  },
  {
   "cell_type": "code",
   "execution_count": null,
   "id": "6abd01e3",
   "metadata": {},
   "outputs": [],
   "source": [
    "# Claasification report :\n",
    "class_report = Classification_report(y_test, y_pred)\n",
    "print(\"𝐂𝐥𝐚𝐬𝐬𝐢𝐟𝐢𝐜𝐚𝐭𝐢𝐨𝐧 𝐑𝐞𝐩𝐨𝐫𝐭:\")\n",
    "print(class_report)"
   ]
  },
  {
   "cell_type": "code",
   "execution_count": null,
   "id": "df349fc5",
   "metadata": {},
   "outputs": [],
   "source": []
  }
 ],
 "metadata": {
  "kernelspec": {
   "display_name": "Python 3 (ipykernel)",
   "language": "python",
   "name": "python3"
  },
  "language_info": {
   "codemirror_mode": {
    "name": "ipython",
    "version": 3
   },
   "file_extension": ".py",
   "mimetype": "text/x-python",
   "name": "python",
   "nbconvert_exporter": "python",
   "pygments_lexer": "ipython3",
   "version": "3.11.5"
  }
 },
 "nbformat": 4,
 "nbformat_minor": 5
}
