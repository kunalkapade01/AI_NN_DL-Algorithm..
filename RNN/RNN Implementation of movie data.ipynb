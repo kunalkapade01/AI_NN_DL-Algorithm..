{
 "cells": [
  {
   "cell_type": "markdown",
   "id": "2949a5bb",
   "metadata": {},
   "source": [
    "# 𝐑𝐍𝐍 𝐈𝐦𝐩𝐥𝐞𝐦𝐞𝐧𝐭𝐚𝐭𝐢𝐨𝐧 𝐨𝐟 𝐦𝐨𝐯𝐢𝐞 𝐃𝐚𝐭𝐚 :"
   ]
  },
  {
   "cell_type": "code",
   "execution_count": 1,
   "id": "3e7dd304",
   "metadata": {},
   "outputs": [],
   "source": [
    "# Import library :\n",
    "import numpy as np\n",
    "import tensorflow as tf\n",
    "from tensorflow.keras.preprocessing import sequence\n",
    "from tensorflow.keras.layers import Embedding, SimpleRNN, Dense\n",
    "from tensorflow.keras.models import Sequential\n",
    "from tensorflow.keras.preprocessing.text import Tokenizer"
   ]
  },
  {
   "cell_type": "code",
   "execution_count": 2,
   "id": "7d37ca4e",
   "metadata": {},
   "outputs": [],
   "source": [
    "import warnings\n",
    "warnings.filterwarnings(\"ignore\")"
   ]
  },
  {
   "cell_type": "code",
   "execution_count": 6,
   "id": "a15ac939",
   "metadata": {},
   "outputs": [],
   "source": [
    "# Create data :\n",
    "data = [\n",
    "    (\"I absolutely loved this movie!\", \"positive\"),\n",
    "    (\"The acting was terriable and the plot was boaring\",\"negative\"),\n",
    "    (\"This film was masterpeace.\", \"positive\"),\n",
    "    (\"I couldn't stand watching it, a complete waste of time\", \"negative\"),\n",
    "    (\"The cinematography was stunning , a must watch\", \"positive\")\n",
    "]"
   ]
  },
  {
   "cell_type": "code",
   "execution_count": 7,
   "id": "1bb20881",
   "metadata": {},
   "outputs": [],
   "source": [
    "reviews, settiments = zip(*data)"
   ]
  },
  {
   "cell_type": "code",
   "execution_count": 8,
   "id": "d9b0bf3a",
   "metadata": {},
   "outputs": [
    {
     "data": {
      "text/plain": [
       "('I absolutely loved this movie!',\n",
       " 'The acting was terriable and the plot was boaring',\n",
       " 'This film was masterpeace.',\n",
       " \"I couldn't stand watching it, a complete waste of time\",\n",
       " 'The cinematography was stunning , a must watch')"
      ]
     },
     "execution_count": 8,
     "metadata": {},
     "output_type": "execute_result"
    }
   ],
   "source": [
    "reviews"
   ]
  },
  {
   "cell_type": "code",
   "execution_count": 9,
   "id": "c6494889",
   "metadata": {},
   "outputs": [
    {
     "data": {
      "text/plain": [
       "('positive', 'negative', 'positive', 'negative', 'positive')"
      ]
     },
     "execution_count": 9,
     "metadata": {},
     "output_type": "execute_result"
    }
   ],
   "source": [
    "settiments"
   ]
  },
  {
   "cell_type": "code",
   "execution_count": 10,
   "id": "d8531196",
   "metadata": {},
   "outputs": [],
   "source": [
    "# Create & instance of the tokenizer class :\n",
    "tokens = Tokenizer()\n",
    "tokens.fit_on_texts(reviews)"
   ]
  },
  {
   "cell_type": "code",
   "execution_count": 11,
   "id": "f311f17b",
   "metadata": {},
   "outputs": [
    {
     "data": {
      "text/plain": [
       "28"
      ]
     },
     "execution_count": 11,
     "metadata": {},
     "output_type": "execute_result"
    }
   ],
   "source": [
    "# Claculate the vocabulary size :\n",
    "vocab_size = len(tokens.word_index)+1\n",
    "vocab_size"
   ]
  },
  {
   "cell_type": "code",
   "execution_count": 12,
   "id": "d3ed0022",
   "metadata": {},
   "outputs": [
    {
     "data": {
      "text/plain": [
       "[[3, 6, 7, 4, 8],\n",
       " [2, 9, 1, 10, 11, 2, 12, 1, 13],\n",
       " [4, 14, 1, 15],\n",
       " [3, 16, 17, 18, 19, 5, 20, 21, 22, 23],\n",
       " [2, 24, 1, 25, 5, 26, 27]]"
      ]
     },
     "execution_count": 12,
     "metadata": {},
     "output_type": "execute_result"
    }
   ],
   "source": [
    "# Convert the texts into sequences of integers :\n",
    "seq = tokens.texts_to_sequences(reviews)\n",
    "seq"
   ]
  },
  {
   "cell_type": "code",
   "execution_count": 13,
   "id": "2d72845a",
   "metadata": {},
   "outputs": [
    {
     "data": {
      "text/plain": [
       "10"
      ]
     },
     "execution_count": 13,
     "metadata": {},
     "output_type": "execute_result"
    }
   ],
   "source": [
    "# Count the max length :\n",
    "max_length = max([len(i) for i in seq])\n",
    "max_length"
   ]
  },
  {
   "cell_type": "code",
   "execution_count": 14,
   "id": "b906b36b",
   "metadata": {},
   "outputs": [],
   "source": [
    "# pad sequence to ensure uniform lenght :\n",
    "pad_seq = sequence.pad_sequences(seq, maxlen=max_length, padding=\"post\")"
   ]
  },
  {
   "cell_type": "code",
   "execution_count": 15,
   "id": "5ae28ecf",
   "metadata": {},
   "outputs": [
    {
     "data": {
      "text/plain": [
       "array([[ 3,  6,  7,  4,  8,  0,  0,  0,  0,  0],\n",
       "       [ 2,  9,  1, 10, 11,  2, 12,  1, 13,  0],\n",
       "       [ 4, 14,  1, 15,  0,  0,  0,  0,  0,  0],\n",
       "       [ 3, 16, 17, 18, 19,  5, 20, 21, 22, 23],\n",
       "       [ 2, 24,  1, 25,  5, 26, 27,  0,  0,  0]])"
      ]
     },
     "execution_count": 15,
     "metadata": {},
     "output_type": "execute_result"
    }
   ],
   "source": [
    "# x_train ka data:\n",
    "pad_seq"
   ]
  },
  {
   "cell_type": "code",
   "execution_count": 16,
   "id": "5f87383f",
   "metadata": {},
   "outputs": [
    {
     "data": {
      "text/plain": [
       "array([1, 0, 1, 0, 1])"
      ]
     },
     "execution_count": 16,
     "metadata": {},
     "output_type": "execute_result"
    }
   ],
   "source": [
    "labels = np.array([1 if i==\"positive\" else 0 for i in settiments])\n",
    "labels"
   ]
  },
  {
   "cell_type": "code",
   "execution_count": 17,
   "id": "34bfaefa",
   "metadata": {},
   "outputs": [
    {
     "name": "stdout",
     "output_type": "stream",
     "text": [
      "WARNING:tensorflow:From C:\\Users\\kunal\\anaconda3\\Lib\\site-packages\\keras\\src\\backend.py:873: The name tf.get_default_graph is deprecated. Please use tf.compat.v1.get_default_graph instead.\n",
      "\n"
     ]
    }
   ],
   "source": [
    "# Define the model :\n",
    "model = Sequential([\n",
    "    Embedding(vocab_size, 20, input_length=max_length),\n",
    "    SimpleRNN(20),\n",
    "    Dense(1, activation=\"sigmoid\")\n",
    "])"
   ]
  },
  {
   "cell_type": "code",
   "execution_count": 18,
   "id": "57c43d48",
   "metadata": {},
   "outputs": [
    {
     "name": "stdout",
     "output_type": "stream",
     "text": [
      "WARNING:tensorflow:From C:\\Users\\kunal\\anaconda3\\Lib\\site-packages\\keras\\src\\optimizers\\__init__.py:309: The name tf.train.Optimizer is deprecated. Please use tf.compat.v1.train.Optimizer instead.\n",
      "\n"
     ]
    }
   ],
   "source": [
    "# Compile the model :\n",
    "model.compile(optimizer=\"adam\", loss=\"binary_crossentropy\", metrics=[\"accuracy\"])"
   ]
  },
  {
   "cell_type": "code",
   "execution_count": 19,
   "id": "e0899f11",
   "metadata": {},
   "outputs": [
    {
     "name": "stdout",
     "output_type": "stream",
     "text": [
      "Epoch 1/15\n",
      "WARNING:tensorflow:From C:\\Users\\kunal\\anaconda3\\Lib\\site-packages\\keras\\src\\utils\\tf_utils.py:492: The name tf.ragged.RaggedTensorValue is deprecated. Please use tf.compat.v1.ragged.RaggedTensorValue instead.\n",
      "\n",
      "WARNING:tensorflow:From C:\\Users\\kunal\\anaconda3\\Lib\\site-packages\\keras\\src\\engine\\base_layer_utils.py:384: The name tf.executing_eagerly_outside_functions is deprecated. Please use tf.compat.v1.executing_eagerly_outside_functions instead.\n",
      "\n",
      "1/1 [==============================] - 3s 3s/step - loss: 0.7466 - accuracy: 0.2000\n",
      "Epoch 2/15\n",
      "1/1 [==============================] - 0s 22ms/step - loss: 0.7221 - accuracy: 0.2000\n",
      "Epoch 3/15\n",
      "1/1 [==============================] - 0s 17ms/step - loss: 0.6985 - accuracy: 0.4000\n",
      "Epoch 4/15\n",
      "1/1 [==============================] - 0s 18ms/step - loss: 0.6756 - accuracy: 0.4000\n",
      "Epoch 5/15\n",
      "1/1 [==============================] - 0s 32ms/step - loss: 0.6534 - accuracy: 0.6000\n",
      "Epoch 6/15\n",
      "1/1 [==============================] - 0s 31ms/step - loss: 0.6317 - accuracy: 1.0000\n",
      "Epoch 7/15\n",
      "1/1 [==============================] - 0s 17ms/step - loss: 0.6105 - accuracy: 1.0000\n",
      "Epoch 8/15\n",
      "1/1 [==============================] - 0s 16ms/step - loss: 0.5895 - accuracy: 1.0000\n",
      "Epoch 9/15\n",
      "1/1 [==============================] - 0s 9ms/step - loss: 0.5689 - accuracy: 1.0000\n",
      "Epoch 10/15\n",
      "1/1 [==============================] - 0s 15ms/step - loss: 0.5484 - accuracy: 1.0000\n",
      "Epoch 11/15\n",
      "1/1 [==============================] - 0s 17ms/step - loss: 0.5280 - accuracy: 1.0000\n",
      "Epoch 12/15\n",
      "1/1 [==============================] - 0s 16ms/step - loss: 0.5077 - accuracy: 1.0000\n",
      "Epoch 13/15\n",
      "1/1 [==============================] - 0s 7ms/step - loss: 0.4874 - accuracy: 1.0000\n",
      "Epoch 14/15\n",
      "1/1 [==============================] - 0s 15ms/step - loss: 0.4671 - accuracy: 1.0000\n",
      "Epoch 15/15\n",
      "1/1 [==============================] - 0s 18ms/step - loss: 0.4467 - accuracy: 1.0000\n"
     ]
    },
    {
     "data": {
      "text/plain": [
       "<keras.src.callbacks.History at 0x2272a690fd0>"
      ]
     },
     "execution_count": 19,
     "metadata": {},
     "output_type": "execute_result"
    }
   ],
   "source": [
    "# Train the model :\n",
    "model.fit(pad_seq, labels, epochs=15, verbose=1)"
   ]
  },
  {
   "cell_type": "code",
   "execution_count": 20,
   "id": "c3af426f",
   "metadata": {},
   "outputs": [],
   "source": [
    "new_sent = \"I was blown away by the incredible performance and gripping storyline\""
   ]
  },
  {
   "cell_type": "code",
   "execution_count": 21,
   "id": "04806b74",
   "metadata": {},
   "outputs": [],
   "source": [
    "new_seq =tokens.texts_to_sequences([new_sent])"
   ]
  },
  {
   "cell_type": "code",
   "execution_count": 23,
   "id": "c1ac01b4",
   "metadata": {},
   "outputs": [],
   "source": [
    "new_pad_seq = sequence.pad_sequences(new_seq, maxlen=max_length, padding=\"post\")"
   ]
  },
  {
   "cell_type": "code",
   "execution_count": 25,
   "id": "4fd117cc",
   "metadata": {},
   "outputs": [
    {
     "data": {
      "text/plain": [
       "array([[ 3,  1,  2, 11,  0,  0,  0,  0,  0,  0]])"
      ]
     },
     "execution_count": 25,
     "metadata": {},
     "output_type": "execute_result"
    }
   ],
   "source": [
    "new_pad_seq"
   ]
  },
  {
   "cell_type": "code",
   "execution_count": 27,
   "id": "0d5162b1",
   "metadata": {},
   "outputs": [
    {
     "name": "stdout",
     "output_type": "stream",
     "text": [
      "1/1 [==============================] - 0s 385ms/step\n"
     ]
    }
   ],
   "source": [
    "pred = model.predict(new_pad_seq)"
   ]
  },
  {
   "cell_type": "code",
   "execution_count": 28,
   "id": "d478a16a",
   "metadata": {},
   "outputs": [],
   "source": [
    "sentiment = \"positive\" if pred >= 0.5 else \"negative\""
   ]
  },
  {
   "cell_type": "code",
   "execution_count": 29,
   "id": "e45d801c",
   "metadata": {},
   "outputs": [
    {
     "data": {
      "text/plain": [
       "'positive'"
      ]
     },
     "execution_count": 29,
     "metadata": {},
     "output_type": "execute_result"
    }
   ],
   "source": [
    "sentiment"
   ]
  },
  {
   "cell_type": "code",
   "execution_count": null,
   "id": "0438511e",
   "metadata": {},
   "outputs": [],
   "source": []
  }
 ],
 "metadata": {
  "kernelspec": {
   "display_name": "Python 3 (ipykernel)",
   "language": "python",
   "name": "python3"
  },
  "language_info": {
   "codemirror_mode": {
    "name": "ipython",
    "version": 3
   },
   "file_extension": ".py",
   "mimetype": "text/x-python",
   "name": "python",
   "nbconvert_exporter": "python",
   "pygments_lexer": "ipython3",
   "version": "3.11.5"
  }
 },
 "nbformat": 4,
 "nbformat_minor": 5
}
