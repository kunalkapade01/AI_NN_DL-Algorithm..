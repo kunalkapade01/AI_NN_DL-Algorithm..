{
 "cells": [
  {
   "cell_type": "markdown",
   "id": "0fca3658",
   "metadata": {},
   "source": [
    "# Test Data preprocessing:-"
   ]
  },
  {
   "cell_type": "markdown",
   "id": "7e1be4c5",
   "metadata": {},
   "source": [
    "- 𝐍𝐋𝐏 𝐮𝐬𝐢𝐧𝐠 𝐍𝐚𝐭𝐮𝐫𝐚𝐥 𝐋𝐚𝐧𝐠𝐮𝐚𝐠𝐞 𝐓𝐨𝐨𝐥𝐊𝐢𝐭-(𝐍𝐋𝐓𝐊).."
   ]
  },
  {
   "cell_type": "code",
   "execution_count": 1,
   "id": "c2208107",
   "metadata": {},
   "outputs": [
    {
     "name": "stdout",
     "output_type": "stream",
     "text": [
      "showing info https://raw.githubusercontent.com/nltk/nltk_data/gh-pages/index.xml\n"
     ]
    },
    {
     "data": {
      "text/plain": [
       "True"
      ]
     },
     "execution_count": 1,
     "metadata": {},
     "output_type": "execute_result"
    }
   ],
   "source": [
    "#mport nltk\n",
    "#nltk.download()"
   ]
  },
  {
   "cell_type": "code",
   "execution_count": 2,
   "id": "8a90c9f8",
   "metadata": {},
   "outputs": [],
   "source": [
    "# Import nltk library :\n",
    "import nltk\n",
    "from nltk.tokenize import word_tokenize"
   ]
  },
  {
   "cell_type": "code",
   "execution_count": 3,
   "id": "6b894bf8",
   "metadata": {},
   "outputs": [],
   "source": [
    "sentence = \"I will be a Data scientist one day.\""
   ]
  },
  {
   "cell_type": "code",
   "execution_count": 4,
   "id": "5b7549cf",
   "metadata": {},
   "outputs": [
    {
     "data": {
      "text/plain": [
       "['I', 'will', 'be', 'a', 'Data', 'scientist', 'one', 'day', '.']"
      ]
     },
     "execution_count": 4,
     "metadata": {},
     "output_type": "execute_result"
    }
   ],
   "source": [
    "# seperate the tokens using word tokenize :\n",
    "tokens = word_tokenize(sentence)\n",
    "tokens"
   ]
  },
  {
   "cell_type": "code",
   "execution_count": 5,
   "id": "c666da7f",
   "metadata": {},
   "outputs": [],
   "source": [
    "from nltk.tokenize import sent_tokenize"
   ]
  },
  {
   "cell_type": "code",
   "execution_count": 8,
   "id": "86212168",
   "metadata": {},
   "outputs": [],
   "source": [
    "para = \"\"\"Becoming a data scientist isn't just about acquiring technical skills; it's a journey that involves curiosity, perseverance, and continuous learning. \n",
    "As I envision my path towards this profession.\n",
    "I see it as a blend of my passion for problem-solving, my fascination with data, and my commitment to making a meaningful impact through analytics.\n",
    "First and foremost, embarking on this journey requires a solid foundation in mathematics, statistics, and computer science.\n",
    "These subjects form the bedrock of data science, providing the necessary framework for understanding algorithms, modeling techniques, and data manipulation.\n",
    "Through rigorous study and practice, I aim to strengthen my grasp of these fundamentals, ensuring that I can confidently navigate the complexities of data analysis.\"\"\""
   ]
  },
  {
   "cell_type": "code",
   "execution_count": 9,
   "id": "9e2e6db9",
   "metadata": {},
   "outputs": [
    {
     "data": {
      "text/plain": [
       "[\"Becoming a data scientist isn't just about acquiring technical skills; it's a journey that involves curiosity, perseverance, and continuous learning.\",\n",
       " 'As I envision my path towards this profession.',\n",
       " 'I see it as a blend of my passion for problem-solving, my fascination with data, and my commitment to making a meaningful impact through analytics.',\n",
       " 'First and foremost, embarking on this journey requires a solid foundation in mathematics, statistics, and computer science.',\n",
       " 'These subjects form the bedrock of data science, providing the necessary framework for understanding algorithms, modeling techniques, and data manipulation.',\n",
       " 'Through rigorous study and practice, I aim to strengthen my grasp of these fundamentals, ensuring that I can confidently navigate the complexities of data analysis.']"
      ]
     },
     "execution_count": 9,
     "metadata": {},
     "output_type": "execute_result"
    }
   ],
   "source": [
    "# seperate the para using sent tokenize :\n",
    "sent_tokens = sent_tokenize(para)\n",
    "sent_tokens"
   ]
  },
  {
   "cell_type": "code",
   "execution_count": 10,
   "id": "200eb56a",
   "metadata": {},
   "outputs": [],
   "source": [
    "#remove the panchuation mark:-"
   ]
  },
  {
   "cell_type": "code",
   "execution_count": 17,
   "id": "a8b839c4",
   "metadata": {},
   "outputs": [],
   "source": [
    "sent2 = \"Wow! How cool this goggle is@ I  want this one.\""
   ]
  },
  {
   "cell_type": "code",
   "execution_count": 18,
   "id": "8b4a2410",
   "metadata": {},
   "outputs": [],
   "source": [
    "from nltk.tokenize import RegexpTokenizer"
   ]
  },
  {
   "cell_type": "code",
   "execution_count": 19,
   "id": "24f4eaa4",
   "metadata": {},
   "outputs": [],
   "source": [
    "tokenizer = RegexpTokenizer(r\"\\w+\")"
   ]
  },
  {
   "cell_type": "code",
   "execution_count": 20,
   "id": "e6f3a20c",
   "metadata": {},
   "outputs": [
    {
     "data": {
      "text/plain": [
       "['Wow', 'How', 'cool', 'this', 'goggle', 'is', 'I', 'want', 'this', 'one']"
      ]
     },
     "execution_count": 20,
     "metadata": {},
     "output_type": "execute_result"
    }
   ],
   "source": [
    "result = tokenizer.tokenize(sent2)\n",
    "result"
   ]
  },
  {
   "cell_type": "code",
   "execution_count": 21,
   "id": "96096788",
   "metadata": {},
   "outputs": [],
   "source": [
    "#stop word removal:-\n",
    "from nltk.corpus import stopwords"
   ]
  },
  {
   "cell_type": "code",
   "execution_count": 22,
   "id": "ad7b903f",
   "metadata": {},
   "outputs": [],
   "source": [
    "remove = set(stopwords.words(\"english\"))"
   ]
  },
  {
   "cell_type": "code",
   "execution_count": 25,
   "id": "ba327a65",
   "metadata": {},
   "outputs": [],
   "source": [
    "new_tokens = word_tokenize(para)"
   ]
  },
  {
   "cell_type": "code",
   "execution_count": 26,
   "id": "1caac012",
   "metadata": {},
   "outputs": [],
   "source": [
    "removed_stopwords = [word for word in new_tokens if not word in remove]"
   ]
  },
  {
   "cell_type": "code",
   "execution_count": 27,
   "id": "53da2eda",
   "metadata": {},
   "outputs": [
    {
     "data": {
      "text/plain": [
       "['Becoming',\n",
       " 'data',\n",
       " 'scientist',\n",
       " \"n't\",\n",
       " 'acquiring',\n",
       " 'technical',\n",
       " 'skills',\n",
       " ';',\n",
       " \"'s\",\n",
       " 'journey']"
      ]
     },
     "execution_count": 27,
     "metadata": {},
     "output_type": "execute_result"
    }
   ],
   "source": [
    "removed_stopwords[:10]"
   ]
  },
  {
   "cell_type": "code",
   "execution_count": 29,
   "id": "12eb186d",
   "metadata": {},
   "outputs": [],
   "source": [
    "#steming:- to find root node."
   ]
  },
  {
   "cell_type": "code",
   "execution_count": 30,
   "id": "fde6cd2f",
   "metadata": {},
   "outputs": [],
   "source": [
    "from nltk.stem import PorterStemmer"
   ]
  },
  {
   "cell_type": "code",
   "execution_count": 31,
   "id": "8bc9a0a1",
   "metadata": {},
   "outputs": [],
   "source": [
    "stemmer = PorterStemmer()"
   ]
  },
  {
   "cell_type": "code",
   "execution_count": 32,
   "id": "fe316931",
   "metadata": {},
   "outputs": [
    {
     "data": {
      "text/plain": [
       "['skill',\n",
       " ';',\n",
       " 'it',\n",
       " \"'s\",\n",
       " 'a',\n",
       " 'journey',\n",
       " 'that',\n",
       " 'involv',\n",
       " 'curios',\n",
       " ',',\n",
       " 'persever']"
      ]
     },
     "execution_count": 32,
     "metadata": {},
     "output_type": "execute_result"
    }
   ],
   "source": [
    "stemmed_words = [stemmer.stem(i) for i in new_tokens]\n",
    "stemmed_words[10:21]"
   ]
  },
  {
   "cell_type": "code",
   "execution_count": null,
   "id": "554d9f6e",
   "metadata": {},
   "outputs": [],
   "source": []
  },
  {
   "cell_type": "code",
   "execution_count": 34,
   "id": "73e54abf",
   "metadata": {},
   "outputs": [],
   "source": [
    "# Reducing the word to their base or root form :\n",
    "from nltk.stem import LancasterStemmer"
   ]
  },
  {
   "cell_type": "code",
   "execution_count": 35,
   "id": "df0e819a",
   "metadata": {},
   "outputs": [],
   "source": [
    "stemm2 = LancasterStemmer()"
   ]
  },
  {
   "cell_type": "code",
   "execution_count": 36,
   "id": "70991b6d",
   "metadata": {},
   "outputs": [],
   "source": [
    "stemmed_words2 = [stemm2.stem(i) for i in new_tokens]"
   ]
  },
  {
   "cell_type": "code",
   "execution_count": 37,
   "id": "cfa0e3c6",
   "metadata": {
    "scrolled": true
   },
   "outputs": [
    {
     "data": {
      "text/plain": [
       "['becom', 'a', 'dat', 'sci', 'is', \"n't\", 'just', 'about', 'acquir', 'techn']"
      ]
     },
     "execution_count": 37,
     "metadata": {},
     "output_type": "execute_result"
    }
   ],
   "source": [
    "stemmed_words2[:10]"
   ]
  },
  {
   "cell_type": "code",
   "execution_count": 38,
   "id": "28e30790",
   "metadata": {},
   "outputs": [],
   "source": [
    "# Remove the words to their base or directory :\n",
    "from nltk.stem import WordNetLemmatizer"
   ]
  },
  {
   "cell_type": "code",
   "execution_count": 39,
   "id": "43985270",
   "metadata": {},
   "outputs": [],
   "source": [
    "lemma = WordNetLemmatizer()"
   ]
  },
  {
   "cell_type": "code",
   "execution_count": null,
   "id": "f4fe0933",
   "metadata": {},
   "outputs": [],
   "source": [
    "sentence2 = \"\""
   ]
  },
  {
   "cell_type": "code",
   "execution_count": 40,
   "id": "3da8906e",
   "metadata": {},
   "outputs": [],
   "source": [
    "# using list comprehension to lemmatize each word into new tokens list :\n",
    "lemm_words = [lemma.lemmatize(i) for i in new_tokens]"
   ]
  },
  {
   "cell_type": "code",
   "execution_count": 41,
   "id": "57abe965",
   "metadata": {},
   "outputs": [
    {
     "data": {
      "text/plain": [
       "['Becoming',\n",
       " 'a',\n",
       " 'data',\n",
       " 'scientist',\n",
       " 'is',\n",
       " \"n't\",\n",
       " 'just',\n",
       " 'about',\n",
       " 'acquiring',\n",
       " 'technical']"
      ]
     },
     "execution_count": 41,
     "metadata": {},
     "output_type": "execute_result"
    }
   ],
   "source": [
    "lemm_words[:10]"
   ]
  },
  {
   "cell_type": "code",
   "execution_count": 43,
   "id": "2c07fc4b",
   "metadata": {},
   "outputs": [],
   "source": [
    "# Tokenize the input para into individual sentense firstm and then each sentece :\n",
    "words = [word_tokenize(i) for i in sent_tokenize(para)]"
   ]
  },
  {
   "cell_type": "code",
   "execution_count": 45,
   "id": "a52070e3",
   "metadata": {},
   "outputs": [],
   "source": [
    "# part-of-speech(pos) tagging each word in every senetense using universal tagset :\n",
    "pos_tag = [nltk.pos_tag(i, tagset=\"universal\") for i in words]"
   ]
  },
  {
   "cell_type": "code",
   "execution_count": 46,
   "id": "44af39b9",
   "metadata": {
    "scrolled": true
   },
   "outputs": [
    {
     "data": {
      "text/plain": [
       "[[('Becoming', 'VERB'),\n",
       "  ('a', 'DET'),\n",
       "  ('data', 'NOUN'),\n",
       "  ('scientist', 'NOUN'),\n",
       "  ('is', 'VERB'),\n",
       "  (\"n't\", 'ADV'),\n",
       "  ('just', 'ADV'),\n",
       "  ('about', 'ADP'),\n",
       "  ('acquiring', 'VERB'),\n",
       "  ('technical', 'ADJ'),\n",
       "  ('skills', 'NOUN'),\n",
       "  (';', '.'),\n",
       "  ('it', 'PRON'),\n",
       "  (\"'s\", 'VERB'),\n",
       "  ('a', 'DET'),\n",
       "  ('journey', 'NOUN'),\n",
       "  ('that', 'DET'),\n",
       "  ('involves', 'VERB'),\n",
       "  ('curiosity', 'NOUN'),\n",
       "  (',', '.'),\n",
       "  ('perseverance', 'NOUN'),\n",
       "  (',', '.'),\n",
       "  ('and', 'CONJ'),\n",
       "  ('continuous', 'ADJ'),\n",
       "  ('learning', 'NOUN'),\n",
       "  ('.', '.')],\n",
       " [('As', 'ADP'),\n",
       "  ('I', 'PRON'),\n",
       "  ('envision', 'VERB'),\n",
       "  ('my', 'PRON'),\n",
       "  ('path', 'NOUN'),\n",
       "  ('towards', 'ADP'),\n",
       "  ('this', 'DET'),\n",
       "  ('profession', 'NOUN'),\n",
       "  ('.', '.')],\n",
       " [('I', 'PRON'),\n",
       "  ('see', 'VERB'),\n",
       "  ('it', 'PRON'),\n",
       "  ('as', 'ADP'),\n",
       "  ('a', 'DET'),\n",
       "  ('blend', 'NOUN'),\n",
       "  ('of', 'ADP'),\n",
       "  ('my', 'PRON'),\n",
       "  ('passion', 'NOUN'),\n",
       "  ('for', 'ADP'),\n",
       "  ('problem-solving', 'NOUN'),\n",
       "  (',', '.'),\n",
       "  ('my', 'PRON'),\n",
       "  ('fascination', 'NOUN'),\n",
       "  ('with', 'ADP'),\n",
       "  ('data', 'NOUN'),\n",
       "  (',', '.'),\n",
       "  ('and', 'CONJ'),\n",
       "  ('my', 'PRON'),\n",
       "  ('commitment', 'NOUN'),\n",
       "  ('to', 'PRT'),\n",
       "  ('making', 'VERB'),\n",
       "  ('a', 'DET'),\n",
       "  ('meaningful', 'ADJ'),\n",
       "  ('impact', 'NOUN'),\n",
       "  ('through', 'ADP'),\n",
       "  ('analytics', 'NOUN'),\n",
       "  ('.', '.')],\n",
       " [('First', 'ADV'),\n",
       "  ('and', 'CONJ'),\n",
       "  ('foremost', 'ADV'),\n",
       "  (',', '.'),\n",
       "  ('embarking', 'VERB'),\n",
       "  ('on', 'ADP'),\n",
       "  ('this', 'DET'),\n",
       "  ('journey', 'NOUN'),\n",
       "  ('requires', 'VERB'),\n",
       "  ('a', 'DET'),\n",
       "  ('solid', 'ADJ'),\n",
       "  ('foundation', 'NOUN'),\n",
       "  ('in', 'ADP'),\n",
       "  ('mathematics', 'NOUN'),\n",
       "  (',', '.'),\n",
       "  ('statistics', 'NOUN'),\n",
       "  (',', '.'),\n",
       "  ('and', 'CONJ'),\n",
       "  ('computer', 'NOUN'),\n",
       "  ('science', 'NOUN'),\n",
       "  ('.', '.')],\n",
       " [('These', 'DET'),\n",
       "  ('subjects', 'NOUN'),\n",
       "  ('form', 'VERB'),\n",
       "  ('the', 'DET'),\n",
       "  ('bedrock', 'NOUN'),\n",
       "  ('of', 'ADP'),\n",
       "  ('data', 'NOUN'),\n",
       "  ('science', 'NOUN'),\n",
       "  (',', '.'),\n",
       "  ('providing', 'VERB'),\n",
       "  ('the', 'DET'),\n",
       "  ('necessary', 'ADJ'),\n",
       "  ('framework', 'NOUN'),\n",
       "  ('for', 'ADP'),\n",
       "  ('understanding', 'VERB'),\n",
       "  ('algorithms', 'NOUN'),\n",
       "  (',', '.'),\n",
       "  ('modeling', 'VERB'),\n",
       "  ('techniques', 'NOUN'),\n",
       "  (',', '.'),\n",
       "  ('and', 'CONJ'),\n",
       "  ('data', 'NOUN'),\n",
       "  ('manipulation', 'NOUN'),\n",
       "  ('.', '.')],\n",
       " [('Through', 'ADP'),\n",
       "  ('rigorous', 'ADJ'),\n",
       "  ('study', 'NOUN'),\n",
       "  ('and', 'CONJ'),\n",
       "  ('practice', 'NOUN'),\n",
       "  (',', '.'),\n",
       "  ('I', 'PRON'),\n",
       "  ('aim', 'VERB'),\n",
       "  ('to', 'PRT'),\n",
       "  ('strengthen', 'VERB'),\n",
       "  ('my', 'PRON'),\n",
       "  ('grasp', 'NOUN'),\n",
       "  ('of', 'ADP'),\n",
       "  ('these', 'DET'),\n",
       "  ('fundamentals', 'NOUN'),\n",
       "  (',', '.'),\n",
       "  ('ensuring', 'VERB'),\n",
       "  ('that', 'ADP'),\n",
       "  ('I', 'PRON'),\n",
       "  ('can', 'VERB'),\n",
       "  ('confidently', 'ADV'),\n",
       "  ('navigate', 'VERB'),\n",
       "  ('the', 'DET'),\n",
       "  ('complexities', 'NOUN'),\n",
       "  ('of', 'ADP'),\n",
       "  ('data', 'NOUN'),\n",
       "  ('analysis', 'NOUN'),\n",
       "  ('.', '.')]]"
      ]
     },
     "execution_count": 46,
     "metadata": {},
     "output_type": "execute_result"
    }
   ],
   "source": [
    "pos_tag"
   ]
  },
  {
   "cell_type": "code",
   "execution_count": 47,
   "id": "32f63cab",
   "metadata": {},
   "outputs": [],
   "source": [
    "# to convert texual(text) data into format using this countVectorize :\n",
    "from sklearn.feature_extraction.text import CountVectorizer"
   ]
  },
  {
   "cell_type": "code",
   "execution_count": 48,
   "id": "fe9d04bf",
   "metadata": {},
   "outputs": [],
   "source": [
    "import pandas as pd "
   ]
  },
  {
   "cell_type": "code",
   "execution_count": 49,
   "id": "cf1e1328",
   "metadata": {},
   "outputs": [],
   "source": [
    "counts = CountVectorizer()"
   ]
  },
  {
   "cell_type": "code",
   "execution_count": 50,
   "id": "3afd562d",
   "metadata": {},
   "outputs": [],
   "source": [
    "# Convert the input para into bag-of-words representation :\n",
    "bag = counts.fit_transform(para.splitlines())"
   ]
  },
  {
   "cell_type": "code",
   "execution_count": 51,
   "id": "6f7f6aaa",
   "metadata": {
    "scrolled": true
   },
   "outputs": [
    {
     "data": {
      "text/html": [
       "<div>\n",
       "<style scoped>\n",
       "    .dataframe tbody tr th:only-of-type {\n",
       "        vertical-align: middle;\n",
       "    }\n",
       "\n",
       "    .dataframe tbody tr th {\n",
       "        vertical-align: top;\n",
       "    }\n",
       "\n",
       "    .dataframe thead th {\n",
       "        text-align: right;\n",
       "    }\n",
       "</style>\n",
       "<table border=\"1\" class=\"dataframe\">\n",
       "  <thead>\n",
       "    <tr style=\"text-align: right;\">\n",
       "      <th></th>\n",
       "      <th>about</th>\n",
       "      <th>acquiring</th>\n",
       "      <th>aim</th>\n",
       "      <th>algorithms</th>\n",
       "      <th>analysis</th>\n",
       "      <th>analytics</th>\n",
       "      <th>and</th>\n",
       "      <th>as</th>\n",
       "      <th>becoming</th>\n",
       "      <th>bedrock</th>\n",
       "      <th>...</th>\n",
       "      <th>techniques</th>\n",
       "      <th>that</th>\n",
       "      <th>the</th>\n",
       "      <th>these</th>\n",
       "      <th>this</th>\n",
       "      <th>through</th>\n",
       "      <th>to</th>\n",
       "      <th>towards</th>\n",
       "      <th>understanding</th>\n",
       "      <th>with</th>\n",
       "    </tr>\n",
       "  </thead>\n",
       "  <tbody>\n",
       "    <tr>\n",
       "      <th>0</th>\n",
       "      <td>1</td>\n",
       "      <td>1</td>\n",
       "      <td>0</td>\n",
       "      <td>0</td>\n",
       "      <td>0</td>\n",
       "      <td>0</td>\n",
       "      <td>1</td>\n",
       "      <td>0</td>\n",
       "      <td>1</td>\n",
       "      <td>0</td>\n",
       "      <td>...</td>\n",
       "      <td>0</td>\n",
       "      <td>1</td>\n",
       "      <td>0</td>\n",
       "      <td>0</td>\n",
       "      <td>0</td>\n",
       "      <td>0</td>\n",
       "      <td>0</td>\n",
       "      <td>0</td>\n",
       "      <td>0</td>\n",
       "      <td>0</td>\n",
       "    </tr>\n",
       "    <tr>\n",
       "      <th>1</th>\n",
       "      <td>0</td>\n",
       "      <td>0</td>\n",
       "      <td>0</td>\n",
       "      <td>0</td>\n",
       "      <td>0</td>\n",
       "      <td>0</td>\n",
       "      <td>0</td>\n",
       "      <td>1</td>\n",
       "      <td>0</td>\n",
       "      <td>0</td>\n",
       "      <td>...</td>\n",
       "      <td>0</td>\n",
       "      <td>0</td>\n",
       "      <td>0</td>\n",
       "      <td>0</td>\n",
       "      <td>1</td>\n",
       "      <td>0</td>\n",
       "      <td>0</td>\n",
       "      <td>1</td>\n",
       "      <td>0</td>\n",
       "      <td>0</td>\n",
       "    </tr>\n",
       "    <tr>\n",
       "      <th>2</th>\n",
       "      <td>0</td>\n",
       "      <td>0</td>\n",
       "      <td>0</td>\n",
       "      <td>0</td>\n",
       "      <td>0</td>\n",
       "      <td>1</td>\n",
       "      <td>1</td>\n",
       "      <td>1</td>\n",
       "      <td>0</td>\n",
       "      <td>0</td>\n",
       "      <td>...</td>\n",
       "      <td>0</td>\n",
       "      <td>0</td>\n",
       "      <td>0</td>\n",
       "      <td>0</td>\n",
       "      <td>0</td>\n",
       "      <td>1</td>\n",
       "      <td>1</td>\n",
       "      <td>0</td>\n",
       "      <td>0</td>\n",
       "      <td>1</td>\n",
       "    </tr>\n",
       "    <tr>\n",
       "      <th>3</th>\n",
       "      <td>0</td>\n",
       "      <td>0</td>\n",
       "      <td>0</td>\n",
       "      <td>0</td>\n",
       "      <td>0</td>\n",
       "      <td>0</td>\n",
       "      <td>2</td>\n",
       "      <td>0</td>\n",
       "      <td>0</td>\n",
       "      <td>0</td>\n",
       "      <td>...</td>\n",
       "      <td>0</td>\n",
       "      <td>0</td>\n",
       "      <td>0</td>\n",
       "      <td>0</td>\n",
       "      <td>1</td>\n",
       "      <td>0</td>\n",
       "      <td>0</td>\n",
       "      <td>0</td>\n",
       "      <td>0</td>\n",
       "      <td>0</td>\n",
       "    </tr>\n",
       "    <tr>\n",
       "      <th>4</th>\n",
       "      <td>0</td>\n",
       "      <td>0</td>\n",
       "      <td>0</td>\n",
       "      <td>1</td>\n",
       "      <td>0</td>\n",
       "      <td>0</td>\n",
       "      <td>1</td>\n",
       "      <td>0</td>\n",
       "      <td>0</td>\n",
       "      <td>1</td>\n",
       "      <td>...</td>\n",
       "      <td>1</td>\n",
       "      <td>0</td>\n",
       "      <td>2</td>\n",
       "      <td>1</td>\n",
       "      <td>0</td>\n",
       "      <td>0</td>\n",
       "      <td>0</td>\n",
       "      <td>0</td>\n",
       "      <td>1</td>\n",
       "      <td>0</td>\n",
       "    </tr>\n",
       "    <tr>\n",
       "      <th>5</th>\n",
       "      <td>0</td>\n",
       "      <td>0</td>\n",
       "      <td>1</td>\n",
       "      <td>0</td>\n",
       "      <td>1</td>\n",
       "      <td>0</td>\n",
       "      <td>1</td>\n",
       "      <td>0</td>\n",
       "      <td>0</td>\n",
       "      <td>0</td>\n",
       "      <td>...</td>\n",
       "      <td>0</td>\n",
       "      <td>1</td>\n",
       "      <td>1</td>\n",
       "      <td>1</td>\n",
       "      <td>0</td>\n",
       "      <td>1</td>\n",
       "      <td>1</td>\n",
       "      <td>0</td>\n",
       "      <td>0</td>\n",
       "      <td>0</td>\n",
       "    </tr>\n",
       "  </tbody>\n",
       "</table>\n",
       "<p>6 rows × 79 columns</p>\n",
       "</div>"
      ],
      "text/plain": [
       "   about  acquiring  aim  algorithms  analysis  analytics  and  as  becoming  \\\n",
       "0      1          1    0           0         0          0    1   0         1   \n",
       "1      0          0    0           0         0          0    0   1         0   \n",
       "2      0          0    0           0         0          1    1   1         0   \n",
       "3      0          0    0           0         0          0    2   0         0   \n",
       "4      0          0    0           1         0          0    1   0         0   \n",
       "5      0          0    1           0         1          0    1   0         0   \n",
       "\n",
       "   bedrock  ...  techniques  that  the  these  this  through  to  towards  \\\n",
       "0        0  ...           0     1    0      0     0        0   0        0   \n",
       "1        0  ...           0     0    0      0     1        0   0        1   \n",
       "2        0  ...           0     0    0      0     0        1   1        0   \n",
       "3        0  ...           0     0    0      0     1        0   0        0   \n",
       "4        1  ...           1     0    2      1     0        0   0        0   \n",
       "5        0  ...           0     1    1      1     0        1   1        0   \n",
       "\n",
       "   understanding  with  \n",
       "0              0     0  \n",
       "1              0     0  \n",
       "2              0     1  \n",
       "3              0     0  \n",
       "4              1     0  \n",
       "5              0     0  \n",
       "\n",
       "[6 rows x 79 columns]"
      ]
     },
     "execution_count": 51,
     "metadata": {},
     "output_type": "execute_result"
    }
   ],
   "source": [
    "# Convert into dataframe to use visualize the word counts :\n",
    "pd.DataFrame(bag.toarray(), columns=counts.get_feature_names_out())"
   ]
  },
  {
   "cell_type": "code",
   "execution_count": 52,
   "id": "3790db26",
   "metadata": {},
   "outputs": [
    {
     "name": "stdout",
     "output_type": "stream",
     "text": [
      "Becoming a data scientist isn't just about acquiring technical skills; it's a journey that involves curiosity, perseverance, and continuous learning. \n",
      "As I envision my path towards this profession.\n",
      "I see it as a blend of my passion for problem-solving, my fascination with data, and my commitment to making a meaningful impact through analytics.\n",
      "First and foremost, embarking on this journey requires a solid foundation in mathematics, statistics, and computer science.\n",
      "These subjects form the bedrock of data science, providing the necessary framework for understanding algorithms, modeling techniques, and data manipulation.\n",
      "Through rigorous study and practice, I aim to strengthen my grasp of these fundamentals, ensuring that I can confidently navigate the complexities of data analysis.\n"
     ]
    }
   ],
   "source": [
    "print(para)"
   ]
  },
  {
   "cell_type": "code",
   "execution_count": 53,
   "id": "ec0a3568",
   "metadata": {},
   "outputs": [],
   "source": [
    "# This is a lexical database of english :\n",
    "from nltk.corpus import wordnet"
   ]
  },
  {
   "cell_type": "code",
   "execution_count": 55,
   "id": "fb8bad28",
   "metadata": {},
   "outputs": [],
   "source": [
    "# This retrieves all synsets (sets of synonyms) for the word \"bank :\n",
    "syns = wordnet.synsets(\"bank\")"
   ]
  },
  {
   "cell_type": "code",
   "execution_count": 58,
   "id": "3624b94c",
   "metadata": {
    "scrolled": true
   },
   "outputs": [
    {
     "data": {
      "text/plain": [
       "[Synset('bank.n.01'),\n",
       " Synset('depository_financial_institution.n.01'),\n",
       " Synset('bank.n.03'),\n",
       " Synset('bank.n.04'),\n",
       " Synset('bank.n.05'),\n",
       " Synset('bank.n.06'),\n",
       " Synset('bank.n.07'),\n",
       " Synset('savings_bank.n.02'),\n",
       " Synset('bank.n.09'),\n",
       " Synset('bank.n.10'),\n",
       " Synset('bank.v.01'),\n",
       " Synset('bank.v.02'),\n",
       " Synset('bank.v.03'),\n",
       " Synset('bank.v.04'),\n",
       " Synset('bank.v.05'),\n",
       " Synset('deposit.v.02'),\n",
       " Synset('bank.v.07'),\n",
       " Synset('trust.v.01')]"
      ]
     },
     "execution_count": 58,
     "metadata": {},
     "output_type": "execute_result"
    }
   ],
   "source": [
    "syns"
   ]
  },
  {
   "cell_type": "code",
   "execution_count": 59,
   "id": "85fb6c81",
   "metadata": {},
   "outputs": [
    {
     "data": {
      "text/plain": [
       "'sloping land (especially the slope beside a body of water)'"
      ]
     },
     "execution_count": 59,
     "metadata": {},
     "output_type": "execute_result"
    }
   ],
   "source": [
    "syns[0].definition()"
   ]
  },
  {
   "cell_type": "code",
   "execution_count": 60,
   "id": "f9819732",
   "metadata": {},
   "outputs": [
    {
     "data": {
      "text/plain": [
       "'a financial institution that accepts deposits and channels the money into lending activities'"
      ]
     },
     "execution_count": 60,
     "metadata": {},
     "output_type": "execute_result"
    }
   ],
   "source": [
    "syns[1].definition()"
   ]
  },
  {
   "cell_type": "code",
   "execution_count": 61,
   "id": "7b81806a",
   "metadata": {},
   "outputs": [
    {
     "data": {
      "text/plain": [
       "'a long ridge or pile'"
      ]
     },
     "execution_count": 61,
     "metadata": {},
     "output_type": "execute_result"
    }
   ],
   "source": [
    "syns[2].definition()"
   ]
  },
  {
   "cell_type": "code",
   "execution_count": 62,
   "id": "916f0010",
   "metadata": {},
   "outputs": [
    {
     "name": "stdout",
     "output_type": "stream",
     "text": [
      "sloping land (especially the slope beside a body of water)\n",
      "a financial institution that accepts deposits and channels the money into lending activities\n",
      "a long ridge or pile\n",
      "an arrangement of similar objects in a row or in tiers\n",
      "a supply or stock held in reserve for future use (especially in emergencies)\n",
      "the funds held by a gambling house or the dealer in some gambling games\n",
      "a slope in the turn of a road or track; the outside is higher than the inside in order to reduce the effects of centrifugal force\n",
      "a container (usually with a slot in the top) for keeping money at home\n",
      "a building in which the business of banking transacted\n",
      "a flight maneuver; aircraft tips laterally about its longitudinal axis (especially in turning)\n",
      "tip laterally\n",
      "enclose with a bank\n",
      "do business with a bank or keep an account at a bank\n",
      "act as the banker in a game or in gambling\n",
      "be in the banking business\n",
      "put into a bank account\n",
      "cover with ashes so to control the rate of burning\n",
      "have confidence or faith in\n"
     ]
    }
   ],
   "source": [
    "# To print the defination of each sunset :\n",
    "for i in range(len(syns)):\n",
    "    print(syns[i].definition())"
   ]
  },
  {
   "cell_type": "code",
   "execution_count": 63,
   "id": "922ba1f4",
   "metadata": {},
   "outputs": [],
   "source": [
    "# same retrive all sunset of the eord fan :\n",
    "syns2 = wordnet.synsets(\"fan\")"
   ]
  },
  {
   "cell_type": "code",
   "execution_count": 65,
   "id": "3ed95c52",
   "metadata": {},
   "outputs": [
    {
     "name": "stdout",
     "output_type": "stream",
     "text": [
      "a device for creating a current of air by movement of a surface or surfaces\n",
      "an enthusiastic devotee of sports\n",
      "an ardent follower and admirer\n",
      "strike out (a batter), (of a pitcher)\n",
      "make (an emotion) fiercer\n",
      "agitate the air\n",
      "separate the chaff from by using air currents\n"
     ]
    }
   ],
   "source": [
    "for i in range(len(syns2)):\n",
    "    print(syns2[i].definition())"
   ]
  },
  {
   "cell_type": "code",
   "execution_count": 67,
   "id": "bfd602d0",
   "metadata": {},
   "outputs": [],
   "source": [
    "import matplotlib.pyplot as plt"
   ]
  },
  {
   "cell_type": "code",
   "execution_count": 68,
   "id": "87772e31",
   "metadata": {},
   "outputs": [],
   "source": [
    "# Calculate the frequency of each word para :\n",
    "freq_dist = nltk.FreqDist(word_tokenize(para))"
   ]
  },
  {
   "cell_type": "code",
   "execution_count": 69,
   "id": "4a26403f",
   "metadata": {},
   "outputs": [
    {
     "data": {
      "image/png": "[encoded data removed]",
      "text/plain": [
       "<Figure size 1500x500 with 1 Axes>"
      ]
     },
     "metadata": {},
     "output_type": "display_data"
    },
    {
     "data": {
      "text/plain": [
       "<Axes: xlabel='Samples', ylabel='Counts'>"
      ]
     },
     "execution_count": 69,
     "metadata": {},
     "output_type": "execute_result"
    }
   ],
   "source": [
    "# plot theb graph :\n",
    "plt.figure(figsize=(15, 5))\n",
    "freq_dist.plot()"
   ]
  },
  {
   "cell_type": "code",
   "execution_count": null,
   "id": "e103baea",
   "metadata": {},
   "outputs": [],
   "source": []
  }
 ],
 "metadata": {
  "kernelspec": {
   "display_name": "Python 3 (ipykernel)",
   "language": "python",
   "name": "python3"
  },
  "language_info": {
   "codemirror_mode": {
    "name": "ipython",
    "version": 3
   },
   "file_extension": ".py",
   "mimetype": "text/x-python",
   "name": "python",
   "nbconvert_exporter": "python",
   "pygments_lexer": "ipython3",
   "version": "3.11.5"
  }
 },
 "nbformat": 4,
 "nbformat_minor": 5
}
