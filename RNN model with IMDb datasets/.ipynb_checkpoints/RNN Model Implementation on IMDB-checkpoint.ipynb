{
 "cells": [
  {
   "cell_type": "markdown",
   "id": "ec1ee411",
   "metadata": {},
   "source": [
    "# 𝐑𝐍𝐍 𝐌𝐨𝐝𝐞𝐥 :"
   ]
  },
  {
   "cell_type": "code",
   "execution_count": 1,
   "id": "5ab7c449",
   "metadata": {},
   "outputs": [
    {
     "name": "stdout",
     "output_type": "stream",
     "text": [
      "WARNING:tensorflow:From C:\\Users\\kunal\\anaconda3\\Lib\\site-packages\\keras\\src\\losses.py:2976: The name tf.losses.sparse_softmax_cross_entropy is deprecated. Please use tf.compat.v1.losses.sparse_softmax_cross_entropy instead.\n",
      "\n"
     ]
    }
   ],
   "source": [
    "# Import Necessary library :\n",
    "import numpy as np\n",
    "import tensorflow as tf\n",
    "from tensorflow.keras.preprocessing import sequence\n",
    "from tensorflow.keras.layers import Embedding, SimpleRNN, Dense\n",
    "from tensorflow.keras.models import Sequential\n",
    "from tensorflow.keras.datasets import imdb"
   ]
  },
  {
   "cell_type": "code",
   "execution_count": 2,
   "id": "3960627a",
   "metadata": {},
   "outputs": [],
   "source": [
    "# Load the IMDB datasets :\n",
    "(x_train, y_train), (x_test, y_test) = imdb.load_data(num_words=10000)"
   ]
  },
  {
   "cell_type": "code",
   "execution_count": 3,
   "id": "6f20c45c",
   "metadata": {},
   "outputs": [],
   "source": [
    "features = 10000     # Number of features\n",
    "length = 500         #Max of lenght of sequence\n",
    "batch_size = 32      # BAtch size for training"
   ]
  },
  {
   "cell_type": "code",
   "execution_count": 4,
   "id": "77325f10",
   "metadata": {},
   "outputs": [],
   "source": [
    "# Pad_sequence: Adding the zero (Input size)\n",
    "x_train = sequence.pad_sequences(x_train, maxlen=length)\n",
    "x_test = sequence.pad_sequences(x_test, maxlen=length)"
   ]
  },
  {
   "cell_type": "code",
   "execution_count": 5,
   "id": "3785ccbb",
   "metadata": {
    "scrolled": true
   },
   "outputs": [
    {
     "name": "stdout",
     "output_type": "stream",
     "text": [
      "WARNING:tensorflow:From C:\\Users\\kunal\\anaconda3\\Lib\\site-packages\\keras\\src\\backend.py:873: The name tf.get_default_graph is deprecated. Please use tf.compat.v1.get_default_graph instead.\n",
      "\n"
     ]
    }
   ],
   "source": [
    "# Define the RNN model :\n",
    "model = Sequential([\n",
    "    Embedding(features, 32),         #To convert word indices to dense vector of size 32b\n",
    "    SimpleRNN(32),                   #RNN layer with 32 units \n",
    "    Dense(1, activation=\"sigmoid\")   #output layer with activation function.\n",
    "])"
   ]
  },
  {
   "cell_type": "code",
   "execution_count": 6,
   "id": "704a913e",
   "metadata": {},
   "outputs": [
    {
     "name": "stdout",
     "output_type": "stream",
     "text": [
      "WARNING:tensorflow:From C:\\Users\\kunal\\anaconda3\\Lib\\site-packages\\keras\\src\\optimizers\\__init__.py:309: The name tf.train.Optimizer is deprecated. Please use tf.compat.v1.train.Optimizer instead.\n",
      "\n"
     ]
    }
   ],
   "source": [
    "# Compile the model :\n",
    "model.compile(optimizer=\"adam\", loss=\"binary_crossentropy\", metrics=[\"accuracy\"])"
   ]
  },
  {
   "cell_type": "code",
   "execution_count": 7,
   "id": "2efa2ed7",
   "metadata": {},
   "outputs": [
    {
     "name": "stdout",
     "output_type": "stream",
     "text": [
      "Epoch 1/10\n",
      "WARNING:tensorflow:From C:\\Users\\kunal\\anaconda3\\Lib\\site-packages\\keras\\src\\utils\\tf_utils.py:492: The name tf.ragged.RaggedTensorValue is deprecated. Please use tf.compat.v1.ragged.RaggedTensorValue instead.\n",
      "\n",
      "WARNING:tensorflow:From C:\\Users\\kunal\\anaconda3\\Lib\\site-packages\\keras\\src\\engine\\base_layer_utils.py:384: The name tf.executing_eagerly_outside_functions is deprecated. Please use tf.compat.v1.executing_eagerly_outside_functions instead.\n",
      "\n",
      "782/782 [==============================] - 170s 211ms/step - loss: 0.5451 - accuracy: 0.7230 - val_loss: 0.4477 - val_accuracy: 0.8002\n",
      "Epoch 2/10\n",
      "782/782 [==============================] - 160s 204ms/step - loss: 0.3739 - accuracy: 0.8396 - val_loss: 0.4084 - val_accuracy: 0.8208\n",
      "Epoch 3/10\n",
      "782/782 [==============================] - 159s 204ms/step - loss: 0.2410 - accuracy: 0.9073 - val_loss: 0.4192 - val_accuracy: 0.8365\n",
      "Epoch 4/10\n",
      "782/782 [==============================] - 159s 203ms/step - loss: 0.1399 - accuracy: 0.9502 - val_loss: 0.6047 - val_accuracy: 0.7562\n",
      "Epoch 5/10\n",
      "782/782 [==============================] - 158s 202ms/step - loss: 0.1039 - accuracy: 0.9627 - val_loss: 0.8761 - val_accuracy: 0.6367\n",
      "Epoch 6/10\n",
      "782/782 [==============================] - 157s 201ms/step - loss: 0.0857 - accuracy: 0.9694 - val_loss: 0.7124 - val_accuracy: 0.7922\n",
      "Epoch 7/10\n",
      "782/782 [==============================] - 156s 200ms/step - loss: 0.0898 - accuracy: 0.9677 - val_loss: 0.9459 - val_accuracy: 0.6490\n",
      "Epoch 8/10\n",
      "782/782 [==============================] - 154s 197ms/step - loss: 0.0613 - accuracy: 0.9786 - val_loss: 0.8871 - val_accuracy: 0.7600\n",
      "Epoch 9/10\n",
      "782/782 [==============================] - 123s 157ms/step - loss: 0.0137 - accuracy: 0.9968 - val_loss: 0.8854 - val_accuracy: 0.7896\n",
      "Epoch 10/10\n",
      "782/782 [==============================] - 138s 176ms/step - loss: 0.0037 - accuracy: 0.9996 - val_loss: 0.9616 - val_accuracy: 0.7910\n"
     ]
    },
    {
     "data": {
      "text/plain": [
       "<keras.src.callbacks.History at 0x2d92dd22710>"
      ]
     },
     "execution_count": 7,
     "metadata": {},
     "output_type": "execute_result"
    }
   ],
   "source": [
    "# Train the model :\n",
    "model.fit(x_train, y_train, batch_size=batch_size,\n",
    "         epochs=10, validation_data=(x_test, y_test))"
   ]
  },
  {
   "cell_type": "code",
   "execution_count": 8,
   "id": "c86b0542",
   "metadata": {},
   "outputs": [
    {
     "name": "stdout",
     "output_type": "stream",
     "text": [
      "782/782 [==============================] - 23s 28ms/step\n"
     ]
    }
   ],
   "source": [
    "# Predict onthe test set :\n",
    "y_pred = (model.predict(x_test) > 0.5).astype(\"int32\")"
   ]
  },
  {
   "cell_type": "code",
   "execution_count": 11,
   "id": "8ec66744",
   "metadata": {},
   "outputs": [],
   "source": [
    "from sklearn.metrics import accuracy_score, confusion_matrix, classification_report"
   ]
  },
  {
   "cell_type": "code",
   "execution_count": 12,
   "id": "905172fc",
   "metadata": {},
   "outputs": [
    {
     "name": "stdout",
     "output_type": "stream",
     "text": [
      "𝐀𝐜𝐜𝐮𝐫𝐚𝐜𝐲: 0.7910\n"
     ]
    }
   ],
   "source": [
    "# calculate and print accuracy\n",
    "accuracy = accuracy_score(y_test, y_pred)\n",
    "print(f\"𝐀𝐜𝐜𝐮𝐫𝐚𝐜𝐲: {accuracy:.4f}\")"
   ]
  },
  {
   "cell_type": "code",
   "execution_count": 13,
   "id": "21bacb9e",
   "metadata": {},
   "outputs": [
    {
     "name": "stdout",
     "output_type": "stream",
     "text": [
      "𝐂𝐨𝐧𝐟𝐮𝐬𝐢𝐨𝐧 𝐌𝐚𝐭𝐫𝐢𝐱:\n",
      "[[9818 2682]\n",
      " [2543 9957]]\n"
     ]
    }
   ],
   "source": [
    "# compute and print the confusion matrix :\n",
    "conf_matrix = confusion_matrix(y_test, y_pred)\n",
    "print(\"𝐂𝐨𝐧𝐟𝐮𝐬𝐢𝐨𝐧 𝐌𝐚𝐭𝐫𝐢𝐱:\")\n",
    "print(conf_matrix)"
   ]
  },
  {
   "cell_type": "code",
   "execution_count": 15,
   "id": "5110b62b",
   "metadata": {},
   "outputs": [
    {
     "name": "stdout",
     "output_type": "stream",
     "text": [
      "𝐂𝐥𝐚𝐬𝐬𝐢𝐟𝐢𝐜𝐚𝐭𝐢𝐨𝐧 𝐑𝐞𝐩𝐨𝐫𝐭:\n",
      "              precision    recall  f1-score   support\n",
      "\n",
      "           0       0.79      0.79      0.79     12500\n",
      "           1       0.79      0.80      0.79     12500\n",
      "\n",
      "    accuracy                           0.79     25000\n",
      "   macro avg       0.79      0.79      0.79     25000\n",
      "weighted avg       0.79      0.79      0.79     25000\n",
      "\n"
     ]
    }
   ],
   "source": [
    "# Claasification report :\n",
    "class_report = classification_report(y_test, y_pred)\n",
    "print(\"𝐂𝐥𝐚𝐬𝐬𝐢𝐟𝐢𝐜𝐚𝐭𝐢𝐨𝐧 𝐑𝐞𝐩𝐨𝐫𝐭:\")\n",
    "print(class_report)"
   ]
  },
  {
   "cell_type": "code",
   "execution_count": null,
   "id": "f057ce5c",
   "metadata": {},
   "outputs": [],
   "source": []
  }
 ],
 "metadata": {
  "kernelspec": {
   "display_name": "Python 3 (ipykernel)",
   "language": "python",
   "name": "python3"
  },
  "language_info": {
   "codemirror_mode": {
    "name": "ipython",
    "version": 3
   },
   "file_extension": ".py",
   "mimetype": "text/x-python",
   "name": "python",
   "nbconvert_exporter": "python",
   "pygments_lexer": "ipython3",
   "version": "3.11.5"
  }
 },
 "nbformat": 4,
 "nbformat_minor": 5
}
