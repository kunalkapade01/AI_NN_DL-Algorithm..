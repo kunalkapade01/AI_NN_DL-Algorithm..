{
 "cells": [
  {
   "cell_type": "markdown",
   "metadata": {},
   "source": [
    "# Depth First Search:-"
   ]
  },
  {
   "cell_type": "code",
   "execution_count": 1,
   "metadata": {},
   "outputs": [],
   "source": [
    "def DFS(graph, start, visited=None):\n",
    "    if visited is None:\n",
    "        visited = set()\n",
    "    print(\"𝐯𝐢𝐬𝐢𝐭𝐢𝐧𝐠 :\", start)\n",
    "    visited.add(start)\n",
    "    \n",
    "    for neighbors in graph[start]:\n",
    "        if neighbors not in visited:\n",
    "            DFS(graph, neighbors, visited)"
   ]
  },
  {
   "cell_type": "code",
   "execution_count": 2,
   "metadata": {},
   "outputs": [],
   "source": [
    "graph = {s\n",
    "    \"B\":[\"D\",\"E\"],\n",
    "    \"C\":[\"F\",\"G\"],\n",
    "    \"D\":[],\n",
    "    \"E\":[],\n",
    "    \"F\":[\"H\"],\n",
    "    \"G\":[],\n",
    "    \"H\":[]\n",
    "}"
   ]
  },
  {
   "cell_type": "code",
   "execution_count": 3,
   "metadata": {},
   "outputs": [
    {
     "name": "stdout",
     "output_type": "stream",
     "text": [
      "𝐯𝐢𝐬𝐢𝐭𝐢𝐧𝐠 : A\n",
      "𝐯𝐢𝐬𝐢𝐭𝐢𝐧𝐠 : B\n",
      "𝐯𝐢𝐬𝐢𝐭𝐢𝐧𝐠 : D\n",
      "𝐯𝐢𝐬𝐢𝐭𝐢𝐧𝐠 : E\n",
      "𝐯𝐢𝐬𝐢𝐭𝐢𝐧𝐠 : C\n",
      "𝐯𝐢𝐬𝐢𝐭𝐢𝐧𝐠 : F\n",
      "𝐯𝐢𝐬𝐢𝐭𝐢𝐧𝐠 : H\n",
      "𝐯𝐢𝐬𝐢𝐭𝐢𝐧𝐠 : G\n"
     ]
    }
   ],
   "source": [
    "DFS(graph, \"A\")"
   ]
  },
  {
   "cell_type": "code",
   "execution_count": null,
   "metadata": {},
   "outputs": [],
   "source": []
  }
 ],
 "metadata": {
  "kernelspec": {
   "display_name": "Python 3 (ipykernel)",
   "language": "python",
   "name": "python3"
  },
  "language_info": {
   "codemirror_mode": {
    "name": "ipython",
    "version": 3
   },
   "file_extension": ".py",
   "mimetype": "text/x-python",
   "name": "python",
   "nbconvert_exporter": "python",
   "pygments_lexer": "ipython3",
   "version": "3.11.5"
  }
 },
 "nbformat": 4,
 "nbformat_minor": 4
}
