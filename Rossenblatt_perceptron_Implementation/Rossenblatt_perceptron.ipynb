{
 "cells": [
  {
   "cell_type": "markdown",
   "metadata": {},
   "source": [
    "# 𝐑𝐨𝐬𝐬𝐞𝐧𝐛𝐥𝐚𝐭𝐭_𝐩𝐞𝐫𝐜𝐞𝐩𝐭𝐫𝐨𝐧 :"
   ]
  },
  {
   "cell_type": "code",
   "execution_count": 1,
   "metadata": {},
   "outputs": [],
   "source": [
    "# Import library :\n",
    "import numpy as np"
   ]
  },
  {
   "cell_type": "code",
   "execution_count": 2,
   "metadata": {},
   "outputs": [],
   "source": [
    "class Rossenblatt_perceptron:\n",
    "    \n",
    "    # Initialize the perceptron with learning rate (lr) and number of epochs:\n",
    "    def __init__(self, lr=0.1, epochs=1000):\n",
    "        self.lr = lr   # learning rate.\n",
    "        self.epochs = epochs   # No.of epochs per training.\n",
    "     \n",
    "    # Step activation function:\n",
    "    def step_func(self, x):  \n",
    "        return 0 if x < 45 else 1\n",
    "    \n",
    "    # Predict the output for given input:\n",
    "    def predict(self, input):\n",
    "        op = np.dot(input, self.weights) + self.bias    # Add fbias.\n",
    "        return self.step_func(op)       # Apply step activation function.\n",
    "    \n",
    "    # Train the perceptron with given input and labels:\n",
    "    def train(self, inputs, labels):\n",
    "        input_size = len(inputs[0])\n",
    "        self.weights = np.random.rand(input_size)\n",
    "        self.bias = np.random.rand(1)\n",
    "        \n",
    "        # Iterate over the NO. of epochs:\n",
    "        for i in range(self.epochs):\n",
    "            for inp, lab in zip(inputs, labels):\n",
    "                pred = self.predict(inp)\n",
    "                err = lab - pred         # Calculate the error.\n",
    "                \n",
    "                self.weights += self.lr * err * inp\n",
    "                self.bias += self.lr * err\n",
    "    \n",
    "    # Get the current weights and bias of teh perceptron:\n",
    "    def get_params_(self):\n",
    "        return f\"weights : {self.weights},   Bisa : {self.bias}\""
   ]
  },
  {
   "cell_type": "markdown",
   "metadata": {},
   "source": [
    "- 𝐀𝐍𝐃 𝐆𝐚𝐭𝐞 :"
   ]
  },
  {
   "cell_type": "code",
   "execution_count": 3,
   "metadata": {},
   "outputs": [],
   "source": [
    "# Create instance of Rossenblatt_perceptron class with default lr and epochs :\n",
    "and_obj = Rossenblatt_perceptron()"
   ]
  },
  {
   "cell_type": "code",
   "execution_count": 4,
   "metadata": {},
   "outputs": [],
   "source": [
    "# Input data:\n",
    "inp_data = np.array([[0,0], [0,1], [1,0], [1,1]])\n",
    "op_data = np.array([0, 0, 0, 1])"
   ]
  },
  {
   "cell_type": "code",
   "execution_count": 5,
   "metadata": {},
   "outputs": [],
   "source": [
    "and_obj.train(inp_data, op_data)"
   ]
  },
  {
   "cell_type": "code",
   "execution_count": 6,
   "metadata": {},
   "outputs": [],
   "source": [
    "# Test the data:\n",
    "test_data = np.array([[0,0], [0,1], [1,0], [1,1]])"
   ]
  },
  {
   "cell_type": "code",
   "execution_count": 7,
   "metadata": {},
   "outputs": [
    {
     "name": "stdout",
     "output_type": "stream",
     "text": [
      "𝐈𝐧𝐩𝐮𝐭 : [0 0]   𝐎𝐮𝐭𝐩𝐮𝐭 : 0\n",
      "𝐈𝐧𝐩𝐮𝐭 : [0 1]   𝐎𝐮𝐭𝐩𝐮𝐭 : 0\n",
      "𝐈𝐧𝐩𝐮𝐭 : [1 0]   𝐎𝐮𝐭𝐩𝐮𝐭 : 0\n",
      "𝐈𝐧𝐩𝐮𝐭 : [1 1]   𝐎𝐮𝐭𝐩𝐮𝐭 : 1\n"
     ]
    }
   ],
   "source": [
    "# Print the AND gate:\n",
    "for i in test_data:\n",
    "    op = and_obj.predict(i)\n",
    "    print(f\"𝐈𝐧𝐩𝐮𝐭 : {i}   𝐎𝐮𝐭𝐩𝐮𝐭 : {op}\")"
   ]
  },
  {
   "cell_type": "markdown",
   "metadata": {},
   "source": [
    "- 𝐎𝐑 𝐆𝐚𝐭𝐞 :"
   ]
  },
  {
   "cell_type": "code",
   "execution_count": 8,
   "metadata": {},
   "outputs": [],
   "source": [
    "\n",
    "OR_obj = Rossenblatt_perceptron(lr=0.4, epochs=1000)"
   ]
  },
  {
   "cell_type": "code",
   "execution_count": 9,
   "metadata": {},
   "outputs": [],
   "source": [
    "inp_data = np.array([[0,0], [0,1], [1,0], [1,1]])\n",
    "op_data = np.array([0, 1, 1, 1])"
   ]
  },
  {
   "cell_type": "code",
   "execution_count": 10,
   "metadata": {},
   "outputs": [],
   "source": [
    "OR_obj.train(inp_data, op_data)"
   ]
  },
  {
   "cell_type": "code",
   "execution_count": 11,
   "metadata": {},
   "outputs": [],
   "source": [
    "test_data = np.array([[0,0], [0,1], [1,0], [1,1]])"
   ]
  },
  {
   "cell_type": "code",
   "execution_count": 12,
   "metadata": {},
   "outputs": [
    {
     "name": "stdout",
     "output_type": "stream",
     "text": [
      "𝐈𝐧𝐩𝐮𝐭 : [0 0]   𝐎𝐮𝐭𝐩𝐮𝐭 : 0\n",
      "𝐈𝐧𝐩𝐮𝐭 : [0 1]   𝐎𝐮𝐭𝐩𝐮𝐭 : 1\n",
      "𝐈𝐧𝐩𝐮𝐭 : [1 0]   𝐎𝐮𝐭𝐩𝐮𝐭 : 1\n",
      "𝐈𝐧𝐩𝐮𝐭 : [1 1]   𝐎𝐮𝐭𝐩𝐮𝐭 : 1\n"
     ]
    }
   ],
   "source": [
    "for i in test_data:\n",
    "    op = OR_obj.predict(i)\n",
    "    print(f\"𝐈𝐧𝐩𝐮𝐭 : {i}   𝐎𝐮𝐭𝐩𝐮𝐭 : {op}\")"
   ]
  },
  {
   "cell_type": "markdown",
   "metadata": {},
   "source": [
    "- 𝐍𝐀𝐍𝐃 𝐆𝐚𝐭𝐞 :"
   ]
  },
  {
   "cell_type": "code",
   "execution_count": 13,
   "metadata": {},
   "outputs": [],
   "source": [
    "nand_obj = Rossenblatt_perceptron(lr=0.7, epochs=1000)"
   ]
  },
  {
   "cell_type": "code",
   "execution_count": 14,
   "metadata": {},
   "outputs": [],
   "source": [
    "inp_data = np.array([[0, 0], [0, 1], [1, 0], [1, 1]])\n",
    "op_data = np.array([1, 1, 1, 0])"
   ]
  },
  {
   "cell_type": "code",
   "execution_count": 15,
   "metadata": {},
   "outputs": [],
   "source": [
    "nand_obj.train(inp_data, op_data)"
   ]
  },
  {
   "cell_type": "code",
   "execution_count": 16,
   "metadata": {},
   "outputs": [],
   "source": [
    "test_data = np.array([[0,0], [0,1], [1,0], [1,1]])"
   ]
  },
  {
   "cell_type": "code",
   "execution_count": 17,
   "metadata": {},
   "outputs": [
    {
     "name": "stdout",
     "output_type": "stream",
     "text": [
      "𝐈𝐧𝐩𝐮𝐭 : [0 0]  𝐎𝐮𝐭𝐩𝐮𝐭 : 1\n",
      "𝐈𝐧𝐩𝐮𝐭 : [0 1]  𝐎𝐮𝐭𝐩𝐮𝐭 : 1\n",
      "𝐈𝐧𝐩𝐮𝐭 : [1 0]  𝐎𝐮𝐭𝐩𝐮𝐭 : 1\n",
      "𝐈𝐧𝐩𝐮𝐭 : [1 1]  𝐎𝐮𝐭𝐩𝐮𝐭 : 0\n"
     ]
    }
   ],
   "source": [
    "for i in test_data:\n",
    "    op = nand_obj.predict(i)\n",
    "    print(f\"𝐈𝐧𝐩𝐮𝐭 : {i}  𝐎𝐮𝐭𝐩𝐮𝐭 : {op}\")"
   ]
  },
  {
   "cell_type": "code",
   "execution_count": 18,
   "metadata": {},
   "outputs": [
    {
     "data": {
      "text/plain": [
       "'weights : [15.04605568 14.64219571],   Bisa : [15.4114869]'"
      ]
     },
     "execution_count": 18,
     "metadata": {},
     "output_type": "execute_result"
    }
   ],
   "source": [
    "and_obj.get_params_()"
   ]
  },
  {
   "cell_type": "code",
   "execution_count": 19,
   "metadata": {},
   "outputs": [
    {
     "data": {
      "text/plain": [
       "'weights : [17.24496732 17.50335881],   Bisa : [28.09104737]'"
      ]
     },
     "execution_count": 19,
     "metadata": {},
     "output_type": "execute_result"
    }
   ],
   "source": [
    "OR_obj.get_params_()"
   ]
  },
  {
   "cell_type": "code",
   "execution_count": 20,
   "metadata": {},
   "outputs": [
    {
     "data": {
      "text/plain": [
       "'weights : [-1.35162751 -0.58720066],   Bisa : [46.49374511]'"
      ]
     },
     "execution_count": 20,
     "metadata": {},
     "output_type": "execute_result"
    }
   ],
   "source": [
    "nand_obj.get_params_()"
   ]
  },
  {
   "cell_type": "markdown",
   "metadata": {},
   "source": [
    "- 𝐗𝐎𝐑 𝐆𝐚𝐭𝐞 :"
   ]
  },
  {
   "cell_type": "code",
   "execution_count": 21,
   "metadata": {},
   "outputs": [],
   "source": [
    "xor_obj = Rossenblatt_perceptron(lr=4, epochs=1000)"
   ]
  },
  {
   "cell_type": "code",
   "execution_count": 22,
   "metadata": {},
   "outputs": [],
   "source": [
    "inp_data = np.array([[0, 0], [0, 1], [1, 0], [1, 1]])\n",
    "op_data = np.array([0, 1, 1, 0])"
   ]
  },
  {
   "cell_type": "code",
   "execution_count": 23,
   "metadata": {},
   "outputs": [],
   "source": [
    "xor_obj.train(inp_data, op_data)"
   ]
  },
  {
   "cell_type": "code",
   "execution_count": 24,
   "metadata": {},
   "outputs": [],
   "source": [
    "test_data = np.array([[0, 0], [0, 1], [1, 0], [1, 1]])"
   ]
  },
  {
   "cell_type": "code",
   "execution_count": 25,
   "metadata": {},
   "outputs": [
    {
     "name": "stdout",
     "output_type": "stream",
     "text": [
      "𝐈𝐧𝐩𝐮𝐭 : [0 0]  𝐎𝐮𝐭𝐩𝐮𝐭 : 1\n",
      "𝐈𝐧𝐩𝐮𝐭 : [0 1]  𝐎𝐮𝐭𝐩𝐮𝐭 : 1\n",
      "𝐈𝐧𝐩𝐮𝐭 : [1 0]  𝐎𝐮𝐭𝐩𝐮𝐭 : 0\n",
      "𝐈𝐧𝐩𝐮𝐭 : [1 1]  𝐎𝐮𝐭𝐩𝐮𝐭 : 0\n"
     ]
    }
   ],
   "source": [
    "for i in test_data:\n",
    "    op = xor_obj.predict(i)\n",
    "    print(f\"𝐈𝐧𝐩𝐮𝐭 : {i}  𝐎𝐮𝐭𝐩𝐮𝐭 : {op}\")"
   ]
  },
  {
   "cell_type": "code",
   "execution_count": null,
   "metadata": {},
   "outputs": [],
   "source": []
  }
 ],
 "metadata": {
  "kernelspec": {
   "display_name": "Python 3 (ipykernel)",
   "language": "python",
   "name": "python3"
  },
  "language_info": {
   "codemirror_mode": {
    "name": "ipython",
    "version": 3
   },
   "file_extension": ".py",
   "mimetype": "text/x-python",
   "name": "python",
   "nbconvert_exporter": "python",
   "pygments_lexer": "ipython3",
   "version": "3.11.5"
  }
 },
 "nbformat": 4,
 "nbformat_minor": 4
}
