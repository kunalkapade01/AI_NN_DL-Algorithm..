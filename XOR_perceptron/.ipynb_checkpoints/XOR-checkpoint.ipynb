{
 "cells": [
  {
   "cell_type": "markdown",
   "metadata": {},
   "source": [
    "# 𝐗𝐎𝐑 𝐏𝐞𝐫𝐜𝐞𝐩𝐭𝐫𝐨𝐧 :"
   ]
  },
  {
   "cell_type": "code",
   "execution_count": 1,
   "metadata": {},
   "outputs": [],
   "source": [
    "# Import library :\n",
    "import numpy as np"
   ]
  },
  {
   "cell_type": "code",
   "execution_count": 2,
   "metadata": {},
   "outputs": [
    {
     "name": "stdout",
     "output_type": "stream",
     "text": [
      "𝐨𝐮𝐭𝐩𝐮𝐭 𝐚𝐟𝐭𝐞𝐫 𝐭𝐫𝐚𝐧𝐢𝐧𝐠:\n",
      "[[0.]\n",
      " [1.]\n",
      " [1.]\n",
      " [0.]]\n"
     ]
    }
   ],
   "source": [
    "def sigmoid(x):\n",
    "    return 1/(1 + np.exp(-x))\n",
    "\n",
    "def sigmoid_derivative(x):\n",
    "    return x*(1 - x)\n",
    "\n",
    "# Input dataset\n",
    "x = np.array([[0,0],[0,1],[1,0],[1,1]])\n",
    "\n",
    "# Expected ouput dataset for XOR date\n",
    "y = np.array([[0],[1],[1],[0]])\n",
    "\n",
    "# Seed random numbers to make calculations detreministicab\n",
    "np.random.seed(1)\n",
    "\n",
    "# Initialize weights randmoly with mean 0\n",
    "input_neurons = 2\n",
    "hidden_neurons = 4\n",
    "output_neurons = 1\n",
    "weights_input_hidden = 2 * np.random.random((input_neurons, hidden_neurons)) - 1\n",
    "weights_hidden_output = 2 * np.random.random((hidden_neurons, output_neurons)) - 1\n",
    "\n",
    "epochs = 10000\n",
    "learning_rate = 0.1\n",
    "\n",
    "for epochs in range(epochs):\n",
    "    # first layer taking input from input layer and predicting output of hidden layer\n",
    "    hidden_layer_input = np.dot(x, weights_input_hidden)\n",
    "    # Using sigmoid function normlizing output into 0 to 1\n",
    "    hidden_layer_output = sigmoid(hidden_layer_input)\n",
    "    \n",
    "    output_layer_input = np.dot(hidden_layer_output, weights_hidden_output)\n",
    "    output = sigmoid(output_layer_input)\n",
    "    \n",
    "    output_error = y - output\n",
    "    \n",
    "    d_output = output_error * sigmoid_derivative(output)\n",
    "    output_layer_delta = learning_rate * np.dot(hidden_layer_output.T, d_output)\n",
    "    \n",
    "    hidden_error = np.dot(d_output, weights_hidden_output.T)\n",
    "    \n",
    "    d_hidden = hidden_error * sigmoid_derivative(hidden_layer_output)\n",
    "    \n",
    "    hidden_layer_delta = learning_rate * np.dot(x.T, d_hidden)\n",
    "    \n",
    "    weights_hidden_output += output_layer_delta\n",
    "    weights_input_hidden += hidden_layer_delta\n",
    "    \n",
    "# Testing the delta\n",
    "hidden_layer = sigmoid(np.dot(x, weights_input_hidden))\n",
    "output = sigmoid(np.dot(hidden_layer, weights_hidden_output))\n",
    "\n",
    "# Print the output :\n",
    "print(\"𝐨𝐮𝐭𝐩𝐮𝐭 𝐚𝐟𝐭𝐞𝐫 𝐭𝐫𝐚𝐧𝐢𝐧𝐠:\")\n",
    "print(np.round(output))"
   ]
  },
  {
   "cell_type": "code",
   "execution_count": null,
   "metadata": {},
   "outputs": [],
   "source": []
  }
 ],
 "metadata": {
  "kernelspec": {
   "display_name": "Python 3 (ipykernel)",
   "language": "python",
   "name": "python3"
  },
  "language_info": {
   "codemirror_mode": {
    "name": "ipython",
    "version": 3
   },
   "file_extension": ".py",
   "mimetype": "text/x-python",
   "name": "python",
   "nbconvert_exporter": "python",
   "pygments_lexer": "ipython3",
   "version": "3.11.5"
  }
 },
 "nbformat": 4,
 "nbformat_minor": 4
}
