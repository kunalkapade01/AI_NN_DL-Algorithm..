{
 "cells": [
  {
   "cell_type": "code",
   "execution_count": 1,
   "metadata": {},
   "outputs": [
    {
     "name": "stdout",
     "output_type": "stream",
     "text": [
      "Requirement already satisfied: python-constraint in c:\\users\\kunal\\anaconda3\\lib\\site-packages (1.4.0)\n"
     ]
    }
   ],
   "source": [
    "!pip install python-constraint"
   ]
  },
  {
   "cell_type": "markdown",
   "metadata": {},
   "source": [
    "# - 𝐂𝐨𝐧𝐬𝐭𝐫𝐚𝐢𝐧𝐭 𝐒𝐚𝐭𝐢𝐬𝐟𝐚𝐜𝐭𝐢𝐨𝐧 𝐏𝐫𝐨𝐛𝐥𝐞𝐦𝐬 (𝐂𝐒𝐏𝐬)..."
   ]
  },
  {
   "cell_type": "code",
   "execution_count": 2,
   "metadata": {},
   "outputs": [],
   "source": [
    "# Import constraint library :\n",
    "from constraint import Problem, AllDifferentConstraint"
   ]
  },
  {
   "cell_type": "code",
   "execution_count": 3,
   "metadata": {},
   "outputs": [],
   "source": [
    "\n",
    "def map_coloring_problem():\n",
    "    # Create an instance of problem class:\n",
    "    problem = Problem()\n",
    "    \n",
    "    # Define the divisions (region to be colored):\n",
    "    divisions = [\"Aurangabad\",\"Nashik\",\"Amravati\",\"Pune\",\"Nagpur\",\"Konkan\"]\n",
    "    \n",
    "    # Define the avaliable colors:\n",
    "    colors = [\"red\",\"Green\",\"Blue\"]\n",
    "    \n",
    "    # Add variable with their domains:\n",
    "    problem.addVariables(divisions, colors)\n",
    "    \n",
    "    # Define the pairs of divisions that are adjacent (and thus must not share the same color):\n",
    "    const = [(\"Aurangabad\",\"Pune\"), (\"Aurangabad\",\"Nashik\"), (\"Aurangabad\",\"Amravati\"),\n",
    "            (\"Nashik\",\"Pune\"), (\"Nashik\",\"Konkan\"), (\"Nashik\",\"Amravati\"), (\"Nagpur\",\"Amravati\"),\n",
    "            (\"Pune\",\"Konkan\")]\n",
    "    \n",
    "    for div_pair in const:\n",
    "        problem.addConstraint(lambda x, y : x != y, div_pair)\n",
    "    \n",
    "    # Get all possible solutions that satisfy the constraints:\n",
    "    solution = problem.getSolutions()\n",
    "    \n",
    "    return solution"
   ]
  },
  {
   "cell_type": "code",
   "execution_count": 4,
   "metadata": {},
   "outputs": [],
   "source": [
    "# Call the function to solve map colouring problems:\n",
    "solver = map_coloring_problem()"
   ]
  },
  {
   "cell_type": "code",
   "execution_count": 5,
   "metadata": {},
   "outputs": [
    {
     "name": "stdout",
     "output_type": "stream",
     "text": [
      "𝐬𝐨𝐥𝐮𝐭𝐢𝐨𝐧  1 : {'Nashik': 'Blue', 'Amravati': 'Green', 'Aurangabad': 'red', 'Pune': 'Green', 'Konkan': 'red', 'Nagpur': 'Blue'}\n",
      "𝐬𝐨𝐥𝐮𝐭𝐢𝐨𝐧  2 : {'Nashik': 'Blue', 'Amravati': 'Green', 'Aurangabad': 'red', 'Pune': 'Green', 'Konkan': 'red', 'Nagpur': 'red'}\n",
      "𝐬𝐨𝐥𝐮𝐭𝐢𝐨𝐧  3 : {'Nashik': 'Blue', 'Amravati': 'red', 'Aurangabad': 'Green', 'Pune': 'red', 'Konkan': 'Green', 'Nagpur': 'Green'}\n",
      "𝐬𝐨𝐥𝐮𝐭𝐢𝐨𝐧  4 : {'Nashik': 'Blue', 'Amravati': 'red', 'Aurangabad': 'Green', 'Pune': 'red', 'Konkan': 'Green', 'Nagpur': 'Blue'}\n",
      "𝐬𝐨𝐥𝐮𝐭𝐢𝐨𝐧  5 : {'Nashik': 'Green', 'Amravati': 'Blue', 'Aurangabad': 'red', 'Pune': 'Blue', 'Konkan': 'red', 'Nagpur': 'red'}\n",
      "𝐬𝐨𝐥𝐮𝐭𝐢𝐨𝐧  6 : {'Nashik': 'Green', 'Amravati': 'Blue', 'Aurangabad': 'red', 'Pune': 'Blue', 'Konkan': 'red', 'Nagpur': 'Green'}\n",
      "𝐬𝐨𝐥𝐮𝐭𝐢𝐨𝐧  7 : {'Nashik': 'Green', 'Amravati': 'red', 'Aurangabad': 'Blue', 'Pune': 'red', 'Konkan': 'Blue', 'Nagpur': 'Blue'}\n",
      "𝐬𝐨𝐥𝐮𝐭𝐢𝐨𝐧  8 : {'Nashik': 'Green', 'Amravati': 'red', 'Aurangabad': 'Blue', 'Pune': 'red', 'Konkan': 'Blue', 'Nagpur': 'Green'}\n",
      "𝐬𝐨𝐥𝐮𝐭𝐢𝐨𝐧  9 : {'Nashik': 'red', 'Amravati': 'Green', 'Aurangabad': 'Blue', 'Pune': 'Green', 'Konkan': 'Blue', 'Nagpur': 'red'}\n",
      "𝐬𝐨𝐥𝐮𝐭𝐢𝐨𝐧  10 : {'Nashik': 'red', 'Amravati': 'Green', 'Aurangabad': 'Blue', 'Pune': 'Green', 'Konkan': 'Blue', 'Nagpur': 'Blue'}\n",
      "𝐬𝐨𝐥𝐮𝐭𝐢𝐨𝐧  11 : {'Nashik': 'red', 'Amravati': 'Blue', 'Aurangabad': 'Green', 'Pune': 'Blue', 'Konkan': 'Green', 'Nagpur': 'Green'}\n",
      "𝐬𝐨𝐥𝐮𝐭𝐢𝐨𝐧  12 : {'Nashik': 'red', 'Amravati': 'Blue', 'Aurangabad': 'Green', 'Pune': 'Blue', 'Konkan': 'Green', 'Nagpur': 'red'}\n"
     ]
    }
   ],
   "source": [
    "# Print the soluction :\n",
    "for i, solution in enumerate(solver, start=1):\n",
    "    print(f\"𝐬𝐨𝐥𝐮𝐭𝐢𝐨𝐧  {i} : {solution}\")"
   ]
  },
  {
   "cell_type": "code",
   "execution_count": null,
   "metadata": {},
   "outputs": [],
   "source": []
  },
  {
   "cell_type": "markdown",
   "metadata": {},
   "source": [
    "- 𝐒𝐄𝐍𝐃 + 𝐌𝐎𝐑𝐄 = 𝐌𝐎𝐍𝐄𝐘"
   ]
  },
  {
   "cell_type": "code",
   "execution_count": 6,
   "metadata": {},
   "outputs": [],
   "source": [
    "def CryptArithmeticSolver():\n",
    "    problem = Problem()\n",
    "    \n",
    "    # SEND + MORE = MONEY\n",
    "    \n",
    "    letters = [\"S\",\"E\",\"N\",\"D\",\"M\",\"O\",\"R\",\"Y\"]\n",
    "    \n",
    "    problem.addVariables(letters, range(10))\n",
    "    \n",
    "    problem.addConstraint(AllDifferentConstraint(), letters)\n",
    "    \n",
    "    problem.addConstraint(lambda S, M : S != 0 and M != 0, (\"S\",\"M\"))\n",
    "    \n",
    "    problem.addConstraint(lambda S, E, N, D, M, O, R, Y: 1000*S + 100*E + 10*N + D +\n",
    "                                                         1000*M + 100*O + 10*R + E == \n",
    "                                                         10000*M + 1000*O + 100*N + 10*E + Y, \n",
    "                          letters)\n",
    "    \n",
    "    solutions = problem.getSolutions()\n",
    "    \n",
    "    return solutions"
   ]
  },
  {
   "cell_type": "code",
   "execution_count": 7,
   "metadata": {
    "scrolled": false
   },
   "outputs": [
    {
     "data": {
      "text/plain": [
       "[{'M': 1, 'S': 9, 'D': 7, 'E': 5, 'N': 6, 'O': 0, 'R': 8, 'Y': 2}]"
      ]
     },
     "execution_count": 7,
     "metadata": {},
     "output_type": "execute_result"
    }
   ],
   "source": [
    "CryptArithmeticSolver()"
   ]
  },
  {
   "cell_type": "code",
   "execution_count": null,
   "metadata": {},
   "outputs": [],
   "source": []
  },
  {
   "cell_type": "markdown",
   "metadata": {},
   "source": [
    "- 𝐏𝐎𝐈𝐍𝐓 + 𝐙𝐄𝐑𝐎 = 𝐄𝐍𝐄𝐑𝐆𝐘"
   ]
  },
  {
   "cell_type": "code",
   "execution_count": 8,
   "metadata": {},
   "outputs": [],
   "source": [
    "# Variables = P, O, I, N, T, Z, E, R, G, Y\n",
    "# Domain = 0, 1, 2, 3, 4, 5, 6, 7, 8, 9\n",
    "# Constraint = P != 0, Z != 0, E != 0"
   ]
  },
  {
   "cell_type": "code",
   "execution_count": 9,
   "metadata": {},
   "outputs": [],
   "source": [
    "def CryptArithmeticSolver():\n",
    "    problem = Problem()\n",
    "    \n",
    "    # POINT + ZERO = ENERGY\n",
    "    \n",
    "    letters = [\"P\",\"O\",\"I\",\"N\",\"T\",\"Z\",\"E\",\"R\",\"G\",\"Y\"]\n",
    "    \n",
    "    problem.addVariables(letters, range(10))\n",
    "    \n",
    "    problem.addConstraint(AllDifferentConstraint(), letters)\n",
    "    \n",
    "    problem.addConstraint(lambda P, Z, E : P != 0 and Z != 0 and E != 0, (\"P\",\"Z\",\"E\"))\n",
    "    \n",
    "    problem.addConstraint(lambda P, O, I, N, T, Z, E, R, G, Y : 10000*P + 1000*O + 100*I + 10*N + T +\n",
    "                                                               1000*Z + 100*E + 10*R + O == \n",
    "                                                                100000*E + 10000*N + 1000*E + 100*R + 10*G + Y, \n",
    "                          letters)\n",
    "    \n",
    "    solutions = problem.getSolutions()\n",
    "    \n",
    "    return solutions"
   ]
  },
  {
   "cell_type": "code",
   "execution_count": 10,
   "metadata": {},
   "outputs": [
    {
     "data": {
      "text/plain": [
       "[{'E': 1,\n",
       "  'P': 9,\n",
       "  'Z': 3,\n",
       "  'G': 7,\n",
       "  'I': 5,\n",
       "  'N': 0,\n",
       "  'O': 8,\n",
       "  'R': 6,\n",
       "  'T': 4,\n",
       "  'Y': 2}]"
      ]
     },
     "execution_count": 10,
     "metadata": {},
     "output_type": "execute_result"
    }
   ],
   "source": [
    "CryptArithmeticSolver()"
   ]
  },
  {
   "cell_type": "code",
   "execution_count": null,
   "metadata": {},
   "outputs": [],
   "source": []
  },
  {
   "cell_type": "markdown",
   "metadata": {},
   "source": [
    "- 𝐁𝐀𝐒𝐄 + 𝐁𝐀𝐋𝐋 = 𝐆𝐀𝐌𝐄 "
   ]
  },
  {
   "cell_type": "code",
   "execution_count": 11,
   "metadata": {},
   "outputs": [],
   "source": [
    "def CryptArithmeticSolver():\n",
    "    problem = Problem()\n",
    "    \n",
    "    # BASE + BALL = GAME\n",
    "    \n",
    "    letters = [\"B\",\"A\",\"S\",\"E\",\"L\",\"G\",\"M\"]\n",
    "    \n",
    "    problem.addVariables(letters, range(10))\n",
    "    \n",
    "    problem.addConstraint(AllDifferentConstraint(), letters)\n",
    "    \n",
    "    problem.addConstraint(lambda B, G : B != 0 and G != 0, (\"B\",\"G\"))\n",
    "    \n",
    "    problem.addConstraint(lambda B, A, S, E, L, G, M : 1000*B + 100*A + 10*S + E +\n",
    "                                                       1000*B + 100*A + 10*L + L == \n",
    "                                                       10000*G + 1000*A + 100*M + 10*E, \n",
    "                          letters)\n",
    "    \n",
    "    solutions = problem.getSolutions()\n",
    "    \n",
    "    return solutions"
   ]
  },
  {
   "cell_type": "code",
   "execution_count": 12,
   "metadata": {},
   "outputs": [],
   "source": [
    "#print(CryptArithmeticSolver())"
   ]
  },
  {
   "cell_type": "code",
   "execution_count": 13,
   "metadata": {
    "scrolled": true
   },
   "outputs": [
    {
     "name": "stdout",
     "output_type": "stream",
     "text": [
      "𝐒𝐨𝐥𝐮𝐭𝐢𝐨𝐧 𝐨𝐟 𝐁𝐀𝐒𝐄 + 𝐁𝐀𝐋𝐋 = 𝐆𝐀𝐌𝐄 𝐢𝐬:\n",
      "B: 7\n",
      "G: 1\n",
      "A: 4\n",
      "E: 2\n",
      "L: 8\n",
      "M: 9\n",
      "S: 3\n",
      "\n"
     ]
    }
   ],
   "source": [
    "solutions = CryptArithmeticSolver()\n",
    "\n",
    "if solutions:\n",
    "    for solution in solutions:\n",
    "        print(\"𝐒𝐨𝐥𝐮𝐭𝐢𝐨𝐧 𝐨𝐟 𝐁𝐀𝐒𝐄 + 𝐁𝐀𝐋𝐋 = 𝐆𝐀𝐌𝐄 𝐢𝐬:\")\n",
    "        for letter in solution:\n",
    "            print(f\"{letter}: {solution[letter]}\")\n",
    "        print()\n",
    "else:\n",
    "    print(\"No solutions found.\")\n"
   ]
  },
  {
   "cell_type": "code",
   "execution_count": 14,
   "metadata": {},
   "outputs": [
    {
     "name": "stdout",
     "output_type": "stream",
     "text": [
      "{'A': 'Blue', 'B': 'Green', 'C': 'Red'}\n",
      "{'A': 'Blue', 'B': 'Red', 'C': 'Green'}\n",
      "{'A': 'Green', 'B': 'Blue', 'C': 'Red'}\n",
      "{'A': 'Green', 'B': 'Red', 'C': 'Blue'}\n",
      "{'A': 'Red', 'B': 'Green', 'C': 'Blue'}\n",
      "{'A': 'Red', 'B': 'Blue', 'C': 'Green'}\n"
     ]
    }
   ],
   "source": [
    "from constraint import Problem\n",
    "\n",
    "def map_coloring():\n",
    "    problem = Problem()\n",
    "\n",
    "    # Define variables with their domains\n",
    "    problem.addVariable(\"A\", [\"Red\", \"Green\", \"Blue\"])\n",
    "    problem.addVariable(\"B\", [\"Red\", \"Green\", \"Blue\"])\n",
    "    problem.addVariable(\"C\", [\"Red\", \"Green\", \"Blue\"])\n",
    "\n",
    "    # Add constraints\n",
    "    problem.addConstraint(lambda a, b: a != b, (\"A\", \"B\"))\n",
    "    problem.addConstraint(lambda b, c: b != c, (\"B\", \"C\"))\n",
    "    problem.addConstraint(lambda a, c: a != c, (\"A\", \"C\"))\n",
    "\n",
    "    # Get the solutions\n",
    "    solutions = problem.getSolutions()\n",
    "    return solutions\n",
    "\n",
    "# Solve the map coloring problem\n",
    "solutions = map_coloring()\n",
    "for solution in solutions:\n",
    "    print(solution)"
   ]
  },
  {
   "cell_type": "code",
   "execution_count": null,
   "metadata": {},
   "outputs": [],
   "source": []
  }
 ],
 "metadata": {
  "kernelspec": {
   "display_name": "Python 3 (ipykernel)",
   "language": "python",
   "name": "python3"
  },
  "language_info": {
   "codemirror_mode": {
    "name": "ipython",
    "version": 3
   },
   "file_extension": ".py",
   "mimetype": "text/x-python",
   "name": "python",
   "nbconvert_exporter": "python",
   "pygments_lexer": "ipython3",
   "version": "3.11.5"
  }
 },
 "nbformat": 4,
 "nbformat_minor": 4
}
