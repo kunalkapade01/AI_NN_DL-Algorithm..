{
 "cells": [
  {
   "cell_type": "markdown",
   "metadata": {},
   "source": [
    "# 𝐈𝐦𝐚𝐠𝐞 𝐈𝐧𝐭𝐫𝐨 :"
   ]
  },
  {
   "cell_type": "code",
   "execution_count": 1,
   "metadata": {},
   "outputs": [],
   "source": [
    "# Import library :\n",
    "import numpy as np\n",
    "import matplotlib.pyplot as plt"
   ]
  },
  {
   "cell_type": "code",
   "execution_count": 12,
   "metadata": {},
   "outputs": [],
   "source": [
    "data = np.random.randint(0,255,192)"
   ]
  },
  {
   "cell_type": "code",
   "execution_count": 13,
   "metadata": {},
   "outputs": [
    {
     "data": {
      "text/plain": [
       "array([232, 110,  22,  79,  72,  18, 249,  28, 156, 239, 112,  32,  51,\n",
       "       243, 196, 236,  21, 175, 210,  72, 133, 216,  70, 193, 188, 143,\n",
       "        47,  17, 247, 136, 173, 164, 166, 125, 209,   9,  61, 249,  47,\n",
       "       205, 132,  27, 192, 227, 163,  58, 164, 197,  31,  66, 162,  80,\n",
       "        72,  45, 220,  49, 194, 118, 144, 226, 127,  96,  48, 222, 201,\n",
       "        19, 117, 178,  57,  35, 160,   4, 111,  73, 165,  23,  85,  64,\n",
       "       218,   6, 203, 155, 242, 200, 172,  70, 207, 198, 242, 124, 239,\n",
       "        53,  96,  49, 244,  21, 124, 147,  36, 239,  85,   9,  94,  81,\n",
       "       120, 186, 113, 167,  33,   4, 206, 201, 152, 145, 219,   2,  99,\n",
       "         0, 137, 114, 105, 235, 233,  58, 204, 147, 199, 244, 234, 191,\n",
       "        72, 107, 151,  85, 148, 246,  84,  70,  62, 104, 226, 119, 130,\n",
       "        47,  22,  56,  17,  65, 199, 209, 116, 116,  69,  29, 147, 235,\n",
       "       104, 141, 226, 222,  38, 235, 147, 131, 248, 147,  56, 197, 217,\n",
       "         7, 157, 202, 207, 212,  34, 171, 122, 115, 174, 141,  15,   4,\n",
       "       160, 147,  67,  55,   2, 169, 100,   3, 135,  36])"
      ]
     },
     "execution_count": 13,
     "metadata": {},
     "output_type": "execute_result"
    }
   ],
   "source": [
    "data"
   ]
  },
  {
   "cell_type": "code",
   "execution_count": 14,
   "metadata": {},
   "outputs": [],
   "source": [
    "img = data.reshape(8,8,3)"
   ]
  },
  {
   "cell_type": "code",
   "execution_count": 15,
   "metadata": {},
   "outputs": [
    {
     "data": {
      "image/png": "[encoded data removed]",
      "text/plain": [
       "<Figure size 432x288 with 1 Axes>"
      ]
     },
     "metadata": {
      "needs_background": "light"
     },
     "output_type": "display_data"
    }
   ],
   "source": [
    "plt.imshow(img)\n",
    "plt.show()"
   ]
  },
  {
   "cell_type": "code",
   "execution_count": null,
   "metadata": {},
   "outputs": [],
   "source": []
  },
  {
   "cell_type": "code",
   "execution_count": 8,
   "metadata": {},
   "outputs": [],
   "source": [
    "two = np.array([[0,0,0,0,0,0,0,0],\n",
    "               [0,0,1,1,1,1,1,0],\n",
    "               [0,0,1,0,0,0,1,0],\n",
    "               [0,0,0,0,0,1,0,0],\n",
    "               [0,0,0,0,1,0,0,0],\n",
    "               [0,0,0,1,0,0,0,0],\n",
    "               [0,0,1,0,0,0,0,0],\n",
    "               [0,1,0,0,0,0,0,0],\n",
    "               [1,0,0,0,0,0,0,0]])"
   ]
  },
  {
   "cell_type": "code",
   "execution_count": 9,
   "metadata": {},
   "outputs": [
    {
     "data": {
      "text/plain": [
       "<matplotlib.image.AxesImage at 0x1ec05e7f880>"
      ]
     },
     "execution_count": 9,
     "metadata": {},
     "output_type": "execute_result"
    },
    {
     "data": {
      "image/png": "[encoded data removed]",
      "text/plain": [
       "<Figure size 432x288 with 1 Axes>"
      ]
     },
     "metadata": {
      "needs_background": "light"
     },
     "output_type": "display_data"
    }
   ],
   "source": [
    "plt.imshow(two)"
   ]
  },
  {
   "cell_type": "code",
   "execution_count": 13,
   "metadata": {},
   "outputs": [
    {
     "data": {
      "text/plain": [
       "<matplotlib.image.AxesImage at 0x1ec056ecb80>"
      ]
     },
     "execution_count": 13,
     "metadata": {},
     "output_type": "execute_result"
    },
    {
     "data": {
      "image/png": "[encoded data removed]",
      "text/plain": [
       "<Figure size 360x360 with 1 Axes>"
      ]
     },
     "metadata": {
      "needs_background": "light"
     },
     "output_type": "display_data"
    }
   ],
   "source": [
    "cols = np.arange(0,256)\n",
    "cols = cols.reshape(16,16)\n",
    "plt.figure(figsize=(5,5))\n",
    "plt.imshow(cols)"
   ]
  },
  {
   "cell_type": "code",
   "execution_count": null,
   "metadata": {},
   "outputs": [],
   "source": []
  },
  {
   "cell_type": "code",
   "execution_count": null,
   "metadata": {},
   "outputs": [],
   "source": []
  },
  {
   "cell_type": "code",
   "execution_count": null,
   "metadata": {},
   "outputs": [],
   "source": []
  }
 ],
 "metadata": {
  "kernelspec": {
   "display_name": "Python 3 (ipykernel)",
   "language": "python",
   "name": "python3"
  },
  "language_info": {
   "codemirror_mode": {
    "name": "ipython",
    "version": 3
   },
   "file_extension": ".py",
   "mimetype": "text/x-python",
   "name": "python",
   "nbconvert_exporter": "python",
   "pygments_lexer": "ipython3",
   "version": "3.11.5"
  }
 },
 "nbformat": 4,
 "nbformat_minor": 4
}
