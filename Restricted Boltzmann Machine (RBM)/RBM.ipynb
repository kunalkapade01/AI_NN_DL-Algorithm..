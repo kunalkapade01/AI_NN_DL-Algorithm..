{
 "cells": [
  {
   "cell_type": "markdown",
   "metadata": {},
   "source": [
    "# 𝐑𝐞𝐬𝐭𝐫𝐢𝐜𝐭𝐞𝐝 𝐁𝐨𝐥𝐭𝐳𝐦𝐚𝐧𝐧 𝐌𝐚𝐜𝐡𝐢𝐧𝐞 - (𝐑𝐁𝐌) :"
   ]
  },
  {
   "cell_type": "code",
   "execution_count": 1,
   "metadata": {},
   "outputs": [],
   "source": [
    "# Import library :\n",
    "from sklearn.neural_network import BernoulliRBM\n",
    "from sklearn.datasets import make_classification\n",
    "from sklearn.preprocessing import StandardScaler\n",
    "import numpy as np"
   ]
  },
  {
   "cell_type": "code",
   "execution_count": 2,
   "metadata": {},
   "outputs": [],
   "source": [
    "# Create data :\n",
    "data = make_classification(n_samples=1000, n_classes=3, n_features=10, n_informative=7)"
   ]
  },
  {
   "cell_type": "code",
   "execution_count": 3,
   "metadata": {},
   "outputs": [
    {
     "data": {
      "text/plain": [
       "array([[ 1.23599403, -0.09648612, -0.16112747, ..., -0.87605341,\n",
       "        -0.44132447, -1.64013847],\n",
       "       [-1.31764019, -0.04406231,  0.98326678, ...,  1.1679573 ,\n",
       "        -1.5297466 , -1.26211275],\n",
       "       [ 0.56076723,  0.36289565, -1.04781367, ..., -0.5500784 ,\n",
       "         0.21168783, -1.75611425],\n",
       "       ...,\n",
       "       [ 1.14867496,  0.43262976,  1.78916118, ...,  0.68866736,\n",
       "         1.66158122, -0.38431516],\n",
       "       [-1.00556582, -1.31433131, -2.77104347, ...,  0.7089816 ,\n",
       "         0.26663135, -4.25568982],\n",
       "       [ 2.62067657,  1.62399026,  1.64556585, ..., -4.57268595,\n",
       "         0.4632042 , -0.24940329]])"
      ]
     },
     "execution_count": 3,
     "metadata": {},
     "output_type": "execute_result"
    }
   ],
   "source": [
    "data[0]"
   ]
  },
  {
   "cell_type": "code",
   "execution_count": 4,
   "metadata": {},
   "outputs": [
    {
     "data": {
      "text/plain": [
       "array([1, 2, 2, 0, 2, 2, 2, 1, 0, 0, 0, 0, 0, 1, 0, 1, 2, 1, 0, 0, 1, 0,\n",
       "       2, 2, 0, 0, 1, 1, 0, 1, 0, 2, 0, 0, 1, 0, 0, 2, 2, 2, 0, 0, 1, 2,\n",
       "       1, 2, 0, 1, 2, 2, 2, 0, 0, 1, 2, 2, 2, 1, 1, 0, 2, 1, 0, 1, 2, 2,\n",
       "       1, 1, 1, 0, 2, 2, 1, 1, 2, 1, 2, 1, 0, 1, 0, 1, 2, 0, 2, 1, 1, 2,\n",
       "       2, 0, 2, 0, 2, 2, 2, 1, 0, 2, 2, 0, 1, 2, 0, 1, 2, 2, 2, 1, 2, 2,\n",
       "       1, 1, 0, 0, 2, 2, 2, 2, 0, 0, 2, 2, 1, 0, 0, 1, 1, 2, 0, 1, 1, 0,\n",
       "       1, 0, 0, 2, 2, 1, 1, 2, 0, 1, 1, 1, 0, 2, 1, 0, 0, 2, 0, 0, 1, 0,\n",
       "       2, 0, 1, 0, 1, 2, 2, 1, 0, 1, 1, 0, 1, 2, 1, 1, 2, 1, 1, 1, 0, 0,\n",
       "       1, 2, 2, 0, 1, 1, 2, 2, 1, 2, 0, 0, 0, 1, 2, 1, 2, 2, 0, 0, 1, 1,\n",
       "       1, 2, 0, 0, 2, 2, 0, 0, 2, 1, 2, 2, 1, 2, 2, 0, 2, 2, 1, 2, 0, 0,\n",
       "       1, 1, 1, 0, 2, 2, 1, 2, 2, 2, 1, 2, 1, 2, 2, 2, 1, 1, 1, 0, 2, 0,\n",
       "       1, 2, 2, 2, 1, 2, 1, 1, 2, 0, 2, 1, 1, 2, 0, 1, 2, 1, 1, 0, 2, 1,\n",
       "       1, 1, 1, 0, 0, 2, 0, 0, 0, 0, 2, 1, 1, 1, 1, 1, 0, 0, 1, 2, 1, 0,\n",
       "       1, 0, 2, 2, 0, 1, 1, 1, 0, 1, 2, 0, 2, 2, 1, 0, 0, 2, 0, 0, 2, 1,\n",
       "       0, 2, 2, 0, 2, 2, 1, 2, 0, 2, 0, 2, 0, 2, 1, 1, 0, 0, 1, 2, 0, 2,\n",
       "       1, 1, 2, 1, 1, 0, 2, 0, 0, 1, 2, 0, 2, 1, 0, 0, 1, 1, 1, 0, 0, 0,\n",
       "       2, 1, 1, 2, 1, 1, 0, 2, 2, 0, 1, 1, 1, 1, 1, 2, 0, 2, 0, 1, 0, 0,\n",
       "       1, 2, 0, 0, 2, 1, 0, 1, 1, 2, 1, 2, 2, 1, 2, 0, 1, 1, 0, 1, 2, 1,\n",
       "       0, 0, 0, 1, 0, 1, 2, 2, 1, 1, 1, 2, 1, 2, 2, 1, 1, 1, 2, 0, 1, 0,\n",
       "       0, 0, 0, 0, 1, 2, 0, 2, 0, 2, 2, 1, 0, 0, 2, 2, 1, 1, 2, 0, 2, 1,\n",
       "       1, 0, 0, 0, 2, 1, 2, 2, 1, 2, 2, 2, 1, 0, 0, 2, 2, 1, 0, 0, 0, 1,\n",
       "       1, 0, 1, 1, 2, 0, 1, 1, 2, 1, 0, 2, 1, 2, 0, 0, 0, 0, 2, 2, 1, 1,\n",
       "       2, 1, 1, 1, 1, 2, 2, 0, 1, 1, 1, 1, 2, 2, 0, 0, 1, 0, 0, 0, 2, 0,\n",
       "       0, 0, 1, 2, 0, 2, 0, 1, 0, 0, 2, 0, 1, 1, 2, 1, 0, 2, 2, 0, 1, 2,\n",
       "       2, 0, 2, 2, 0, 2, 2, 1, 0, 0, 1, 0, 2, 2, 0, 1, 1, 1, 1, 2, 2, 2,\n",
       "       2, 0, 0, 2, 1, 0, 0, 1, 0, 1, 1, 0, 2, 0, 1, 1, 0, 2, 1, 2, 1, 2,\n",
       "       0, 2, 2, 2, 1, 1, 2, 0, 2, 0, 2, 2, 1, 1, 1, 2, 0, 0, 2, 1, 0, 1,\n",
       "       2, 1, 0, 1, 2, 0, 2, 0, 0, 2, 1, 1, 1, 1, 2, 2, 1, 1, 2, 1, 2, 2,\n",
       "       0, 1, 0, 2, 2, 0, 2, 2, 0, 1, 0, 0, 1, 2, 0, 2, 2, 0, 2, 2, 1, 0,\n",
       "       2, 1, 0, 1, 0, 2, 2, 0, 0, 0, 2, 0, 1, 1, 0, 0, 1, 1, 2, 1, 2, 2,\n",
       "       2, 0, 0, 1, 2, 2, 0, 2, 1, 0, 0, 2, 0, 0, 0, 1, 1, 0, 2, 0, 2, 2,\n",
       "       1, 2, 0, 2, 1, 1, 1, 1, 0, 1, 1, 2, 0, 2, 1, 2, 0, 2, 0, 1, 0, 2,\n",
       "       2, 0, 1, 1, 2, 0, 0, 0, 0, 2, 0, 1, 0, 0, 2, 2, 0, 0, 0, 2, 0, 0,\n",
       "       1, 0, 2, 0, 0, 2, 1, 0, 2, 1, 0, 2, 0, 1, 0, 0, 1, 2, 0, 2, 1, 2,\n",
       "       2, 1, 0, 1, 1, 2, 0, 0, 1, 2, 2, 1, 1, 2, 0, 1, 0, 2, 1, 0, 2, 0,\n",
       "       0, 1, 1, 0, 0, 0, 0, 0, 1, 1, 2, 1, 2, 0, 1, 2, 2, 0, 0, 2, 0, 2,\n",
       "       0, 2, 0, 0, 2, 0, 1, 0, 0, 1, 1, 1, 2, 0, 2, 0, 0, 0, 0, 1, 2, 1,\n",
       "       1, 1, 2, 2, 0, 1, 0, 1, 2, 1, 0, 0, 2, 0, 2, 0, 0, 0, 1, 0, 0, 2,\n",
       "       0, 0, 2, 1, 2, 0, 0, 2, 1, 2, 2, 2, 2, 0, 1, 0, 1, 1, 2, 0, 2, 0,\n",
       "       1, 0, 2, 2, 0, 0, 0, 2, 2, 1, 2, 2, 1, 1, 1, 1, 2, 2, 0, 2, 2, 0,\n",
       "       2, 1, 0, 1, 0, 1, 1, 0, 1, 1, 1, 1, 1, 0, 2, 0, 1, 0, 2, 0, 0, 1,\n",
       "       2, 2, 1, 2, 2, 0, 2, 0, 1, 2, 2, 0, 2, 2, 2, 2, 2, 1, 0, 2, 2, 1,\n",
       "       1, 0, 1, 1, 2, 2, 0, 1, 2, 2, 2, 1, 0, 0, 2, 1, 1, 0, 0, 0, 1, 0,\n",
       "       2, 1, 2, 2, 2, 1, 0, 0, 0, 2, 1, 0, 0, 1, 1, 1, 1, 0, 0, 0, 2, 0,\n",
       "       2, 2, 0, 1, 2, 2, 1, 1, 2, 2, 0, 0, 1, 1, 1, 1, 0, 0, 2, 0, 0, 1,\n",
       "       2, 1, 2, 0, 0, 0, 1, 1, 1, 1])"
      ]
     },
     "execution_count": 4,
     "metadata": {},
     "output_type": "execute_result"
    }
   ],
   "source": [
    "data[1]"
   ]
  },
  {
   "cell_type": "code",
   "execution_count": 5,
   "metadata": {},
   "outputs": [],
   "source": [
    "x = data[0]\n",
    "y = data[1]"
   ]
  },
  {
   "cell_type": "code",
   "execution_count": 6,
   "metadata": {},
   "outputs": [],
   "source": [
    "from sklearn.linear_model import LogisticRegression"
   ]
  },
  {
   "cell_type": "code",
   "execution_count": 7,
   "metadata": {},
   "outputs": [],
   "source": [
    "# Initialize a StandardScaler :\n",
    "scaler = StandardScaler()"
   ]
  },
  {
   "cell_type": "code",
   "execution_count": 8,
   "metadata": {},
   "outputs": [],
   "source": [
    "# Fit the StandardScaler to the data in 'x' :\n",
    "x = scaler.fit_transform(x)"
   ]
  },
  {
   "cell_type": "code",
   "execution_count": 9,
   "metadata": {},
   "outputs": [
    {
     "data": {
      "text/plain": [
       "-2.842170943040401e-18"
      ]
     },
     "execution_count": 9,
     "metadata": {},
     "output_type": "execute_result"
    }
   ],
   "source": [
    "# Compute and return the mean :\n",
    "x.mean()"
   ]
  },
  {
   "cell_type": "code",
   "execution_count": 10,
   "metadata": {},
   "outputs": [
    {
     "data": {
      "text/plain": [
       "1.0"
      ]
     },
     "execution_count": 10,
     "metadata": {},
     "output_type": "execute_result"
    }
   ],
   "source": [
    "# Compute & return standard deviation :\n",
    "x.std()"
   ]
  },
  {
   "cell_type": "markdown",
   "metadata": {},
   "source": [
    "- 𝐋𝐨𝐠𝐢𝐬𝐭𝐢𝐜 𝐑𝐞𝐠𝐫𝐞𝐬𝐬𝐢𝐨𝐧 :"
   ]
  },
  {
   "cell_type": "code",
   "execution_count": 12,
   "metadata": {},
   "outputs": [],
   "source": [
    "# Create the model :\n",
    "model = LogisticRegression()"
   ]
  },
  {
   "cell_type": "code",
   "execution_count": 13,
   "metadata": {},
   "outputs": [],
   "source": [
    "from sklearn.model_selection import train_test_split"
   ]
  },
  {
   "cell_type": "code",
   "execution_count": 14,
   "metadata": {},
   "outputs": [],
   "source": [
    "x_train, x_test, y_train, y_test = train_test_split(x, y, test_size=0.25, random_state=12)"
   ]
  },
  {
   "cell_type": "code",
   "execution_count": 15,
   "metadata": {},
   "outputs": [
    {
     "data": {
      "text/html": [
       "<style>#sk-container-id-1 {color: black;}#sk-container-id-1 pre{padding: 0;}#sk-container-id-1 div.sk-toggleable {background-color: white;}#sk-container-id-1 label.sk-toggleable__label {cursor: pointer;display: block;width: 100%;margin-bottom: 0;padding: 0.3em;box-sizing: border-box;text-align: center;}#sk-container-id-1 label.sk-toggleable__label-arrow:before {content: \"▸\";float: left;margin-right: 0.25em;color: #696969;}#sk-container-id-1 label.sk-toggleable__label-arrow:hover:before {color: black;}#sk-container-id-1 div.sk-estimator:hover label.sk-toggleable__label-arrow:before {color: black;}#sk-container-id-1 div.sk-toggleable__content {max-height: 0;max-width: 0;overflow: hidden;text-align: left;background-color: #f0f8ff;}#sk-container-id-1 div.sk-toggleable__content pre {margin: 0.2em;color: black;border-radius: 0.25em;background-color: #f0f8ff;}#sk-container-id-1 input.sk-toggleable__control:checked~div.sk-toggleable__content {max-height: 200px;max-width: 100%;overflow: auto;}#sk-container-id-1 input.sk-toggleable__control:checked~label.sk-toggleable__label-arrow:before {content: \"▾\";}#sk-container-id-1 div.sk-estimator input.sk-toggleable__control:checked~label.sk-toggleable__label {background-color: #d4ebff;}#sk-container-id-1 div.sk-label input.sk-toggleable__control:checked~label.sk-toggleable__label {background-color: #d4ebff;}#sk-container-id-1 input.sk-hidden--visually {border: 0;clip: rect(1px 1px 1px 1px);clip: rect(1px, 1px, 1px, 1px);height: 1px;margin: -1px;overflow: hidden;padding: 0;position: absolute;width: 1px;}#sk-container-id-1 div.sk-estimator {font-family: monospace;background-color: #f0f8ff;border: 1px dotted black;border-radius: 0.25em;box-sizing: border-box;margin-bottom: 0.5em;}#sk-container-id-1 div.sk-estimator:hover {background-color: #d4ebff;}#sk-container-id-1 div.sk-parallel-item::after {content: \"\";width: 100%;border-bottom: 1px solid gray;flex-grow: 1;}#sk-container-id-1 div.sk-label:hover label.sk-toggleable__label {background-color: #d4ebff;}#sk-container-id-1 div.sk-serial::before {content: \"\";position: absolute;border-left: 1px solid gray;box-sizing: border-box;top: 0;bottom: 0;left: 50%;z-index: 0;}#sk-container-id-1 div.sk-serial {display: flex;flex-direction: column;align-items: center;background-color: white;padding-right: 0.2em;padding-left: 0.2em;position: relative;}#sk-container-id-1 div.sk-item {position: relative;z-index: 1;}#sk-container-id-1 div.sk-parallel {display: flex;align-items: stretch;justify-content: center;background-color: white;position: relative;}#sk-container-id-1 div.sk-item::before, #sk-container-id-1 div.sk-parallel-item::before {content: \"\";position: absolute;border-left: 1px solid gray;box-sizing: border-box;top: 0;bottom: 0;left: 50%;z-index: -1;}#sk-container-id-1 div.sk-parallel-item {display: flex;flex-direction: column;z-index: 1;position: relative;background-color: white;}#sk-container-id-1 div.sk-parallel-item:first-child::after {align-self: flex-end;width: 50%;}#sk-container-id-1 div.sk-parallel-item:last-child::after {align-self: flex-start;width: 50%;}#sk-container-id-1 div.sk-parallel-item:only-child::after {width: 0;}#sk-container-id-1 div.sk-dashed-wrapped {border: 1px dashed gray;margin: 0 0.4em 0.5em 0.4em;box-sizing: border-box;padding-bottom: 0.4em;background-color: white;}#sk-container-id-1 div.sk-label label {font-family: monospace;font-weight: bold;display: inline-block;line-height: 1.2em;}#sk-container-id-1 div.sk-label-container {text-align: center;}#sk-container-id-1 div.sk-container {/* jupyter's `normalize.less` sets `[hidden] { display: none; }` but bootstrap.min.css set `[hidden] { display: none !important; }` so we also need the `!important` here to be able to override the default hidden behavior on the sphinx rendered scikit-learn.org. See: https://github.com/scikit-learn/scikit-learn/issues/21755 */display: inline-block !important;position: relative;}#sk-container-id-1 div.sk-text-repr-fallback {display: none;}</style><div id=\"sk-container-id-1\" class=\"sk-top-container\"><div class=\"sk-text-repr-fallback\"><pre>LogisticRegression()</pre><b>In a Jupyter environment, please rerun this cell to show the HTML representation or trust the notebook. <br />On GitHub, the HTML representation is unable to render, please try loading this page with nbviewer.org.</b></div><div class=\"sk-container\" hidden><div class=\"sk-item\"><div class=\"sk-estimator sk-toggleable\"><input class=\"sk-toggleable__control sk-hidden--visually\" id=\"sk-estimator-id-1\" type=\"checkbox\" checked><label for=\"sk-estimator-id-1\" class=\"sk-toggleable__label sk-toggleable__label-arrow\">LogisticRegression</label><div class=\"sk-toggleable__content\"><pre>LogisticRegression()</pre></div></div></div></div></div>"
      ],
      "text/plain": [
       "LogisticRegression()"
      ]
     },
     "execution_count": 15,
     "metadata": {},
     "output_type": "execute_result"
    }
   ],
   "source": [
    "# Train the model :\n",
    "model.fit(x_train, y_train)"
   ]
  },
  {
   "cell_type": "code",
   "execution_count": 16,
   "metadata": {},
   "outputs": [],
   "source": [
    "# Predict the model :\n",
    "y_pred = model.predict(x_test)"
   ]
  },
  {
   "cell_type": "code",
   "execution_count": 17,
   "metadata": {},
   "outputs": [],
   "source": [
    "from sklearn.metrics import f1_score"
   ]
  },
  {
   "cell_type": "code",
   "execution_count": 19,
   "metadata": {},
   "outputs": [
    {
     "data": {
      "text/plain": [
       "array([0.79096045, 0.70588235, 0.70588235])"
      ]
     },
     "execution_count": 19,
     "metadata": {},
     "output_type": "execute_result"
    }
   ],
   "source": [
    "# print f1-score :\n",
    "f1_score(y_pred, y_test, average=None)"
   ]
  },
  {
   "cell_type": "markdown",
   "metadata": {},
   "source": [
    "- 𝐁𝐞𝐫𝐧𝐨𝐮𝐥𝐥𝐢𝐑𝐁𝐌 :"
   ]
  },
  {
   "cell_type": "code",
   "execution_count": 20,
   "metadata": {},
   "outputs": [],
   "source": [
    "# Initalize a BernoulliRBM with 5 hidden components and 100 iteration for training :\n",
    "RBM = BernoulliRBM(n_components=5, n_iter=100)"
   ]
  },
  {
   "cell_type": "code",
   "execution_count": 21,
   "metadata": {},
   "outputs": [],
   "source": [
    "x_train = RBM.fit_transform(x_train)"
   ]
  },
  {
   "cell_type": "code",
   "execution_count": 22,
   "metadata": {},
   "outputs": [],
   "source": [
    "x_test = RBM.fit_transform(x_test)"
   ]
  },
  {
   "cell_type": "code",
   "execution_count": 24,
   "metadata": {},
   "outputs": [],
   "source": [
    "model2 = LogisticRegression()"
   ]
  },
  {
   "cell_type": "code",
   "execution_count": 25,
   "metadata": {},
   "outputs": [
    {
     "data": {
      "text/html": [
       "<style>#sk-container-id-2 {color: black;}#sk-container-id-2 pre{padding: 0;}#sk-container-id-2 div.sk-toggleable {background-color: white;}#sk-container-id-2 label.sk-toggleable__label {cursor: pointer;display: block;width: 100%;margin-bottom: 0;padding: 0.3em;box-sizing: border-box;text-align: center;}#sk-container-id-2 label.sk-toggleable__label-arrow:before {content: \"▸\";float: left;margin-right: 0.25em;color: #696969;}#sk-container-id-2 label.sk-toggleable__label-arrow:hover:before {color: black;}#sk-container-id-2 div.sk-estimator:hover label.sk-toggleable__label-arrow:before {color: black;}#sk-container-id-2 div.sk-toggleable__content {max-height: 0;max-width: 0;overflow: hidden;text-align: left;background-color: #f0f8ff;}#sk-container-id-2 div.sk-toggleable__content pre {margin: 0.2em;color: black;border-radius: 0.25em;background-color: #f0f8ff;}#sk-container-id-2 input.sk-toggleable__control:checked~div.sk-toggleable__content {max-height: 200px;max-width: 100%;overflow: auto;}#sk-container-id-2 input.sk-toggleable__control:checked~label.sk-toggleable__label-arrow:before {content: \"▾\";}#sk-container-id-2 div.sk-estimator input.sk-toggleable__control:checked~label.sk-toggleable__label {background-color: #d4ebff;}#sk-container-id-2 div.sk-label input.sk-toggleable__control:checked~label.sk-toggleable__label {background-color: #d4ebff;}#sk-container-id-2 input.sk-hidden--visually {border: 0;clip: rect(1px 1px 1px 1px);clip: rect(1px, 1px, 1px, 1px);height: 1px;margin: -1px;overflow: hidden;padding: 0;position: absolute;width: 1px;}#sk-container-id-2 div.sk-estimator {font-family: monospace;background-color: #f0f8ff;border: 1px dotted black;border-radius: 0.25em;box-sizing: border-box;margin-bottom: 0.5em;}#sk-container-id-2 div.sk-estimator:hover {background-color: #d4ebff;}#sk-container-id-2 div.sk-parallel-item::after {content: \"\";width: 100%;border-bottom: 1px solid gray;flex-grow: 1;}#sk-container-id-2 div.sk-label:hover label.sk-toggleable__label {background-color: #d4ebff;}#sk-container-id-2 div.sk-serial::before {content: \"\";position: absolute;border-left: 1px solid gray;box-sizing: border-box;top: 0;bottom: 0;left: 50%;z-index: 0;}#sk-container-id-2 div.sk-serial {display: flex;flex-direction: column;align-items: center;background-color: white;padding-right: 0.2em;padding-left: 0.2em;position: relative;}#sk-container-id-2 div.sk-item {position: relative;z-index: 1;}#sk-container-id-2 div.sk-parallel {display: flex;align-items: stretch;justify-content: center;background-color: white;position: relative;}#sk-container-id-2 div.sk-item::before, #sk-container-id-2 div.sk-parallel-item::before {content: \"\";position: absolute;border-left: 1px solid gray;box-sizing: border-box;top: 0;bottom: 0;left: 50%;z-index: -1;}#sk-container-id-2 div.sk-parallel-item {display: flex;flex-direction: column;z-index: 1;position: relative;background-color: white;}#sk-container-id-2 div.sk-parallel-item:first-child::after {align-self: flex-end;width: 50%;}#sk-container-id-2 div.sk-parallel-item:last-child::after {align-self: flex-start;width: 50%;}#sk-container-id-2 div.sk-parallel-item:only-child::after {width: 0;}#sk-container-id-2 div.sk-dashed-wrapped {border: 1px dashed gray;margin: 0 0.4em 0.5em 0.4em;box-sizing: border-box;padding-bottom: 0.4em;background-color: white;}#sk-container-id-2 div.sk-label label {font-family: monospace;font-weight: bold;display: inline-block;line-height: 1.2em;}#sk-container-id-2 div.sk-label-container {text-align: center;}#sk-container-id-2 div.sk-container {/* jupyter's `normalize.less` sets `[hidden] { display: none; }` but bootstrap.min.css set `[hidden] { display: none !important; }` so we also need the `!important` here to be able to override the default hidden behavior on the sphinx rendered scikit-learn.org. See: https://github.com/scikit-learn/scikit-learn/issues/21755 */display: inline-block !important;position: relative;}#sk-container-id-2 div.sk-text-repr-fallback {display: none;}</style><div id=\"sk-container-id-2\" class=\"sk-top-container\"><div class=\"sk-text-repr-fallback\"><pre>LogisticRegression()</pre><b>In a Jupyter environment, please rerun this cell to show the HTML representation or trust the notebook. <br />On GitHub, the HTML representation is unable to render, please try loading this page with nbviewer.org.</b></div><div class=\"sk-container\" hidden><div class=\"sk-item\"><div class=\"sk-estimator sk-toggleable\"><input class=\"sk-toggleable__control sk-hidden--visually\" id=\"sk-estimator-id-2\" type=\"checkbox\" checked><label for=\"sk-estimator-id-2\" class=\"sk-toggleable__label sk-toggleable__label-arrow\">LogisticRegression</label><div class=\"sk-toggleable__content\"><pre>LogisticRegression()</pre></div></div></div></div></div>"
      ],
      "text/plain": [
       "LogisticRegression()"
      ]
     },
     "execution_count": 25,
     "metadata": {},
     "output_type": "execute_result"
    }
   ],
   "source": [
    "model2.fit(x_train, y_train)"
   ]
  },
  {
   "cell_type": "code",
   "execution_count": 26,
   "metadata": {},
   "outputs": [],
   "source": [
    "y_pred2 = model2.predict(x_test)"
   ]
  },
  {
   "cell_type": "code",
   "execution_count": 27,
   "metadata": {},
   "outputs": [
    {
     "data": {
      "text/plain": [
       "array([0.02272727, 0.63414634, 0.58937198])"
      ]
     },
     "execution_count": 27,
     "metadata": {},
     "output_type": "execute_result"
    }
   ],
   "source": [
    "f1_score(y_pred2, y_test, average=None)"
   ]
  },
  {
   "cell_type": "code",
   "execution_count": 28,
   "metadata": {},
   "outputs": [],
   "source": [
    "from sklearn.metrics import accuracy_score"
   ]
  },
  {
   "cell_type": "code",
   "execution_count": 29,
   "metadata": {},
   "outputs": [
    {
     "data": {
      "text/plain": [
       "0.508"
      ]
     },
     "execution_count": 29,
     "metadata": {},
     "output_type": "execute_result"
    }
   ],
   "source": [
    "# Accuracy Score :\n",
    "accuracy_score(y_pred2, y_test)"
   ]
  },
  {
   "cell_type": "code",
   "execution_count": 30,
   "metadata": {},
   "outputs": [
    {
     "data": {
      "text/plain": [
       "0.736"
      ]
     },
     "execution_count": 30,
     "metadata": {},
     "output_type": "execute_result"
    }
   ],
   "source": [
    "accuracy_score(y_pred, y_test)"
   ]
  },
  {
   "cell_type": "code",
   "execution_count": 31,
   "metadata": {},
   "outputs": [
    {
     "data": {
      "text/plain": [
       "0.49466666666666664"
      ]
     },
     "execution_count": 31,
     "metadata": {},
     "output_type": "execute_result"
    }
   ],
   "source": [
    "model2.score(x_train, y_train)"
   ]
  },
  {
   "cell_type": "code",
   "execution_count": null,
   "metadata": {},
   "outputs": [],
   "source": []
  }
 ],
 "metadata": {
  "kernelspec": {
   "display_name": "Python 3 (ipykernel)",
   "language": "python",
   "name": "python3"
  },
  "language_info": {
   "codemirror_mode": {
    "name": "ipython",
    "version": 3
   },
   "file_extension": ".py",
   "mimetype": "text/x-python",
   "name": "python",
   "nbconvert_exporter": "python",
   "pygments_lexer": "ipython3",
   "version": "3.11.5"
  }
 },
 "nbformat": 4,
 "nbformat_minor": 4
}
