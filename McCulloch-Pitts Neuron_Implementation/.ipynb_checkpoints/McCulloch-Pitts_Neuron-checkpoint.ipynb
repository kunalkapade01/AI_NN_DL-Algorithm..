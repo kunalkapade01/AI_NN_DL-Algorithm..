{
 "cells": [
  {
   "cell_type": "markdown",
   "metadata": {},
   "source": [
    "# - 𝐌𝐜𝐂𝐮𝐥𝐥𝐨𝐜𝐡-𝐏𝐢𝐭𝐭𝐬_𝐍𝐞𝐮𝐫𝐨𝐧 :"
   ]
  },
  {
   "cell_type": "code",
   "execution_count": 1,
   "metadata": {},
   "outputs": [],
   "source": [
    "# Import library :\n",
    "import numpy as np"
   ]
  },
  {
   "cell_type": "markdown",
   "metadata": {},
   "source": [
    "- 𝐀𝐍𝐃 𝐆𝐚𝐭𝐞 :"
   ]
  },
  {
   "cell_type": "code",
   "execution_count": 2,
   "metadata": {},
   "outputs": [],
   "source": [
    "# Define the step function for binary classfication:\n",
    "def step_func(x):\n",
    "    return 1 if x >= 1.5 else 0\n",
    "\n",
    "# Define compute AND operation using step function :\n",
    "def MCP_AND(inp):\n",
    "    for i in inp:\n",
    "        print(f\"𝐎𝐮𝐭𝐩𝐮𝐭 : {step_func(sum(i))}\")"
   ]
  },
  {
   "cell_type": "code",
   "execution_count": 3,
   "metadata": {},
   "outputs": [],
   "source": [
    "# Create data :\n",
    "inp_data = np.array([[0,0], [0,1], [1,0], [1,1]])\n",
    "out_data = np.array([0,0,0,1])"
   ]
  },
  {
   "cell_type": "code",
   "execution_count": 4,
   "metadata": {},
   "outputs": [
    {
     "name": "stdout",
     "output_type": "stream",
     "text": [
      "𝐎𝐮𝐭𝐩𝐮𝐭 : 0\n",
      "𝐎𝐮𝐭𝐩𝐮𝐭 : 0\n",
      "𝐎𝐮𝐭𝐩𝐮𝐭 : 0\n",
      "𝐎𝐮𝐭𝐩𝐮𝐭 : 1\n"
     ]
    }
   ],
   "source": [
    "MCP_AND(inp_data)"
   ]
  },
  {
   "cell_type": "markdown",
   "metadata": {},
   "source": [
    "- 𝐎𝐑 𝐆𝐚𝐭𝐞 :"
   ]
  },
  {
   "cell_type": "code",
   "execution_count": 5,
   "metadata": {},
   "outputs": [],
   "source": [
    "def step_func(x):\n",
    "    return 1 if x >= 1 else 0\n",
    "\n",
    "def MCP_OR(inp):\n",
    "    for i in inp:\n",
    "        print(f\"𝐎𝐮𝐭𝐩𝐮𝐭 : {step_func(sum(i))}\")"
   ]
  },
  {
   "cell_type": "code",
   "execution_count": 6,
   "metadata": {},
   "outputs": [],
   "source": [
    "inp_data = np.array([[0,0], [0,1], [1,0], [1,1]])\n",
    "out_data = np.array([0,1,1,1])"
   ]
  },
  {
   "cell_type": "code",
   "execution_count": 7,
   "metadata": {},
   "outputs": [
    {
     "name": "stdout",
     "output_type": "stream",
     "text": [
      "𝐎𝐮𝐭𝐩𝐮𝐭 : 0\n",
      "𝐎𝐮𝐭𝐩𝐮𝐭 : 1\n",
      "𝐎𝐮𝐭𝐩𝐮𝐭 : 1\n",
      "𝐎𝐮𝐭𝐩𝐮𝐭 : 1\n"
     ]
    }
   ],
   "source": [
    "MCP_OR(inp_data)"
   ]
  },
  {
   "cell_type": "code",
   "execution_count": null,
   "metadata": {},
   "outputs": [],
   "source": []
  },
  {
   "cell_type": "code",
   "execution_count": null,
   "metadata": {},
   "outputs": [],
   "source": []
  }
 ],
 "metadata": {
  "kernelspec": {
   "display_name": "Python 3 (ipykernel)",
   "language": "python",
   "name": "python3"
  },
  "language_info": {
   "codemirror_mode": {
    "name": "ipython",
    "version": 3
   },
   "file_extension": ".py",
   "mimetype": "text/x-python",
   "name": "python",
   "nbconvert_exporter": "python",
   "pygments_lexer": "ipython3",
   "version": "3.11.5"
  }
 },
 "nbformat": 4,
 "nbformat_minor": 4
}
